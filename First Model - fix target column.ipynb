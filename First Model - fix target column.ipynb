{
 "cells": [
  {
   "cell_type": "markdown",
   "id": "narrow-facial",
   "metadata": {},
   "source": [
    "##Concatenate files:"
   ]
  },
  {
   "cell_type": "markdown",
   "id": "public-positive",
   "metadata": {},
   "source": [
    "files = glob('./data/train_FD00*.txt')\n",
    "frames = [wrangle(files) for file in files]\n",
    "df=pd.concat(frames,axis=0)"
   ]
  },
  {
   "cell_type": "markdown",
   "id": "announced-brief",
   "metadata": {},
   "source": [
    "df=pd.concat(frames,axis=0)"
   ]
  },
  {
   "cell_type": "code",
   "execution_count": 2,
   "id": "unsigned-objective",
   "metadata": {},
   "outputs": [],
   "source": [
    "import pandas as pd\n",
    "import numpy as np\n",
    "import matplotlib.pyplot as plt\n",
    "from glob import glob\n",
    "import os\n",
    "from sklearn.ensemble import RandomForestRegressor\n",
    "from sklearn.linear_model import LogisticRegression\n",
    "from sklearn.metrics import mean_absolute_error, mean_squared_error\n",
    "\n",
    "pd.set_option('display.max_columns',50)\n"
   ]
  },
  {
   "cell_type": "code",
   "execution_count": 3,
   "id": "preliminary-wrong",
   "metadata": {
    "scrolled": true
   },
   "outputs": [
    {
     "data": {
      "text/plain": [
       "'./data/train_FD001.txt'"
      ]
     },
     "execution_count": 3,
     "metadata": {},
     "output_type": "execute_result"
    }
   ],
   "source": [
    "files = glob('./data/train_FD00*.txt')\n",
    "files[0]= files[0].replace('\\\\', '/')\n",
    "files[0]"
   ]
  },
  {
   "cell_type": "code",
   "execution_count": 4,
   "id": "assigned-palmer",
   "metadata": {},
   "outputs": [],
   "source": [
    "n_=['']*21\n",
    "df=[0]*5\n",
    "ruldf=[0]*5\n",
    "drop_cols=[0]*5\n",
    "for i in range(0,21):\n",
    "    n_[i]='sens_meas_'+str(i+1)\n",
    "col_names=['unit_no', 'time', 'op_set1', 'op_set2', 'op_set3']+ n_\n",
    "\n",
    "##Read csvs and assign them to df[1] to df[4]\n",
    "for n in range(1,5):\n",
    "    df[n]=pd.read_csv(files[n-1], delimiter=\" \", names=col_names, header=None, index_col=False)\n",
    "    df[n]=df[n].set_index('unit_no')\n",
    "    \n",
    "   #Drop columns with a single value accross all rows\n",
    "    drop_cols[n] = [col for col in df[n]\n",
    "               if df[n][col].nunique() == 1]\n",
    "    df[n]=df[n].drop(columns=drop_cols[n])\n",
    "    \n",
    "    ##Create Remaining Useful Life column (RUL), which is = to the number of readings before failure \n",
    "    # (the last reading for each unit is in this dataset represents failure)\n",
    "    ruldf[n]=df[n][['time']].groupby(by='unit_no').max()\n",
    "    for x in ruldf[n].index:\n",
    "        df[n].loc[x,'RUL'] = ruldf[n].loc[x,'time'] - df[n].loc[x,'time']"
   ]
  },
  {
   "cell_type": "markdown",
   "id": "baking-peninsula",
   "metadata": {},
   "source": [
    " # Wrangle Test\n",
    " "
   ]
  },
  {
   "cell_type": "code",
   "execution_count": 5,
   "id": "narrative-passion",
   "metadata": {},
   "outputs": [
    {
     "data": {
      "text/plain": [
       "'./data/test_FD001.txt'"
      ]
     },
     "execution_count": 5,
     "metadata": {},
     "output_type": "execute_result"
    }
   ],
   "source": [
    "files = glob('./data/test_FD00*.txt')\n",
    "files[0]= files[0].replace('\\\\', '/')\n",
    "files[0]"
   ]
  },
  {
   "cell_type": "markdown",
   "id": "supreme-district",
   "metadata": {},
   "source": [
    " ### Copy function for now, DELETE after wrangle for train and test is done"
   ]
  },
  {
   "cell_type": "code",
   "execution_count": 27,
   "id": "prime-departure",
   "metadata": {},
   "outputs": [],
   "source": [
    "n_=['']*21\n",
    "dft=[0]*5\n",
    "ruldft=[0]*5\n",
    "drop_cols=[0]*5\n",
    "for i in range(0,21):\n",
    "    n_[i]='sens_meas_'+str(i+1)\n",
    "col_names=['unit_no', 'time', 'op_set1', 'op_set2', 'op_set3']+ n_\n",
    "\n",
    "##Read csvs and assign them to dft[1] to dft[4]\n",
    "for n in range(1,5):\n",
    "    dft[n]=pd.read_csv(files[n-1], delimiter=\" \", names=col_names, header=None, index_col=False)\n",
    "    dft[n]=dft[n].set_index('unit_no')\n",
    "    \n",
    "   #Drop columns with a single value accross all rows\n",
    "    drop_cols[n] = [col for col in dft[n]\n",
    "               if dft[n][col].nunique() == 1]\n",
    "    dft[n]=dft[n].drop(columns=drop_cols[n])\n",
    "    \n"
   ]
  },
  {
   "cell_type": "code",
   "execution_count": 65,
   "id": "prepared-conditions",
   "metadata": {},
   "outputs": [
    {
     "data": {
      "text/html": [
       "<div>\n",
       "<style scoped>\n",
       "    .dataframe tbody tr th:only-of-type {\n",
       "        vertical-align: middle;\n",
       "    }\n",
       "\n",
       "    .dataframe tbody tr th {\n",
       "        vertical-align: top;\n",
       "    }\n",
       "\n",
       "    .dataframe thead th {\n",
       "        text-align: right;\n",
       "    }\n",
       "</style>\n",
       "<table border=\"1\" class=\"dataframe\">\n",
       "  <thead>\n",
       "    <tr style=\"text-align: right;\">\n",
       "      <th></th>\n",
       "      <th>time</th>\n",
       "      <th>op_set1</th>\n",
       "      <th>op_set2</th>\n",
       "      <th>sens_meas_2</th>\n",
       "      <th>sens_meas_3</th>\n",
       "      <th>sens_meas_4</th>\n",
       "      <th>sens_meas_6</th>\n",
       "      <th>sens_meas_7</th>\n",
       "      <th>sens_meas_8</th>\n",
       "      <th>sens_meas_9</th>\n",
       "      <th>sens_meas_11</th>\n",
       "      <th>sens_meas_12</th>\n",
       "      <th>sens_meas_13</th>\n",
       "      <th>sens_meas_14</th>\n",
       "      <th>sens_meas_15</th>\n",
       "      <th>sens_meas_17</th>\n",
       "      <th>sens_meas_20</th>\n",
       "      <th>sens_meas_21</th>\n",
       "    </tr>\n",
       "    <tr>\n",
       "      <th>unit_no</th>\n",
       "      <th></th>\n",
       "      <th></th>\n",
       "      <th></th>\n",
       "      <th></th>\n",
       "      <th></th>\n",
       "      <th></th>\n",
       "      <th></th>\n",
       "      <th></th>\n",
       "      <th></th>\n",
       "      <th></th>\n",
       "      <th></th>\n",
       "      <th></th>\n",
       "      <th></th>\n",
       "      <th></th>\n",
       "      <th></th>\n",
       "      <th></th>\n",
       "      <th></th>\n",
       "      <th></th>\n",
       "    </tr>\n",
       "  </thead>\n",
       "  <tbody>\n",
       "    <tr>\n",
       "      <th>1</th>\n",
       "      <td>1</td>\n",
       "      <td>0.0023</td>\n",
       "      <td>0.0003</td>\n",
       "      <td>643.02</td>\n",
       "      <td>1585.29</td>\n",
       "      <td>1398.21</td>\n",
       "      <td>21.61</td>\n",
       "      <td>553.90</td>\n",
       "      <td>2388.04</td>\n",
       "      <td>9050.17</td>\n",
       "      <td>47.20</td>\n",
       "      <td>521.72</td>\n",
       "      <td>2388.03</td>\n",
       "      <td>8125.55</td>\n",
       "      <td>8.4052</td>\n",
       "      <td>392</td>\n",
       "      <td>38.86</td>\n",
       "      <td>23.3735</td>\n",
       "    </tr>\n",
       "    <tr>\n",
       "      <th>1</th>\n",
       "      <td>2</td>\n",
       "      <td>-0.0027</td>\n",
       "      <td>-0.0003</td>\n",
       "      <td>641.71</td>\n",
       "      <td>1588.45</td>\n",
       "      <td>1395.42</td>\n",
       "      <td>21.61</td>\n",
       "      <td>554.85</td>\n",
       "      <td>2388.01</td>\n",
       "      <td>9054.42</td>\n",
       "      <td>47.50</td>\n",
       "      <td>522.16</td>\n",
       "      <td>2388.06</td>\n",
       "      <td>8139.62</td>\n",
       "      <td>8.3803</td>\n",
       "      <td>393</td>\n",
       "      <td>39.02</td>\n",
       "      <td>23.3916</td>\n",
       "    </tr>\n",
       "    <tr>\n",
       "      <th>1</th>\n",
       "      <td>3</td>\n",
       "      <td>0.0003</td>\n",
       "      <td>0.0001</td>\n",
       "      <td>642.46</td>\n",
       "      <td>1586.94</td>\n",
       "      <td>1401.34</td>\n",
       "      <td>21.61</td>\n",
       "      <td>554.11</td>\n",
       "      <td>2388.05</td>\n",
       "      <td>9056.96</td>\n",
       "      <td>47.50</td>\n",
       "      <td>521.97</td>\n",
       "      <td>2388.03</td>\n",
       "      <td>8130.10</td>\n",
       "      <td>8.4441</td>\n",
       "      <td>393</td>\n",
       "      <td>39.08</td>\n",
       "      <td>23.4166</td>\n",
       "    </tr>\n",
       "    <tr>\n",
       "      <th>1</th>\n",
       "      <td>4</td>\n",
       "      <td>0.0042</td>\n",
       "      <td>0.0000</td>\n",
       "      <td>642.44</td>\n",
       "      <td>1584.12</td>\n",
       "      <td>1406.42</td>\n",
       "      <td>21.61</td>\n",
       "      <td>554.07</td>\n",
       "      <td>2388.03</td>\n",
       "      <td>9045.29</td>\n",
       "      <td>47.28</td>\n",
       "      <td>521.38</td>\n",
       "      <td>2388.05</td>\n",
       "      <td>8132.90</td>\n",
       "      <td>8.3917</td>\n",
       "      <td>391</td>\n",
       "      <td>39.00</td>\n",
       "      <td>23.3737</td>\n",
       "    </tr>\n",
       "    <tr>\n",
       "      <th>1</th>\n",
       "      <td>5</td>\n",
       "      <td>0.0014</td>\n",
       "      <td>0.0000</td>\n",
       "      <td>642.51</td>\n",
       "      <td>1587.19</td>\n",
       "      <td>1401.92</td>\n",
       "      <td>21.61</td>\n",
       "      <td>554.16</td>\n",
       "      <td>2388.01</td>\n",
       "      <td>9044.55</td>\n",
       "      <td>47.31</td>\n",
       "      <td>522.15</td>\n",
       "      <td>2388.03</td>\n",
       "      <td>8129.54</td>\n",
       "      <td>8.4031</td>\n",
       "      <td>390</td>\n",
       "      <td>38.99</td>\n",
       "      <td>23.4130</td>\n",
       "    </tr>\n",
       "  </tbody>\n",
       "</table>\n",
       "</div>"
      ],
      "text/plain": [
       "         time  op_set1  op_set2  sens_meas_2  sens_meas_3  sens_meas_4  \\\n",
       "unit_no                                                                  \n",
       "1           1   0.0023   0.0003       643.02      1585.29      1398.21   \n",
       "1           2  -0.0027  -0.0003       641.71      1588.45      1395.42   \n",
       "1           3   0.0003   0.0001       642.46      1586.94      1401.34   \n",
       "1           4   0.0042   0.0000       642.44      1584.12      1406.42   \n",
       "1           5   0.0014   0.0000       642.51      1587.19      1401.92   \n",
       "\n",
       "         sens_meas_6  sens_meas_7  sens_meas_8  sens_meas_9  sens_meas_11  \\\n",
       "unit_no                                                                     \n",
       "1              21.61       553.90      2388.04      9050.17         47.20   \n",
       "1              21.61       554.85      2388.01      9054.42         47.50   \n",
       "1              21.61       554.11      2388.05      9056.96         47.50   \n",
       "1              21.61       554.07      2388.03      9045.29         47.28   \n",
       "1              21.61       554.16      2388.01      9044.55         47.31   \n",
       "\n",
       "         sens_meas_12  sens_meas_13  sens_meas_14  sens_meas_15  sens_meas_17  \\\n",
       "unit_no                                                                         \n",
       "1              521.72       2388.03       8125.55        8.4052           392   \n",
       "1              522.16       2388.06       8139.62        8.3803           393   \n",
       "1              521.97       2388.03       8130.10        8.4441           393   \n",
       "1              521.38       2388.05       8132.90        8.3917           391   \n",
       "1              522.15       2388.03       8129.54        8.4031           390   \n",
       "\n",
       "         sens_meas_20  sens_meas_21  \n",
       "unit_no                              \n",
       "1               38.86       23.3735  \n",
       "1               39.02       23.3916  \n",
       "1               39.08       23.4166  \n",
       "1               39.00       23.3737  \n",
       "1               38.99       23.4130  "
      ]
     },
     "execution_count": 65,
     "metadata": {},
     "output_type": "execute_result"
    }
   ],
   "source": [
    "dft1=dft[1] ##Change this to change dataset\n",
    "dft1.head()"
   ]
  },
  {
   "cell_type": "markdown",
   "id": "built-alexandria",
   "metadata": {},
   "source": [
    "# Wrangle Test Target"
   ]
  },
  {
   "cell_type": "code",
   "execution_count": 303,
   "id": "ecological-voice",
   "metadata": {},
   "outputs": [],
   "source": [
    "rul_df = pd.read_csv('./data/RUL_FD001.txt', header=None, names=['RUL'])\n",
    "rul_df=rul_df.set_index(rul_df.index+1) ##Set index to Unit No."
   ]
  },
  {
   "cell_type": "code",
   "execution_count": 304,
   "id": "super-inquiry",
   "metadata": {},
   "outputs": [],
   "source": [
    "y_test=pd.DataFrame(dft1['time'])\n",
    "y_test.loc[:,'RUL']=0\n"
   ]
  },
  {
   "cell_type": "code",
   "execution_count": 305,
   "id": "becoming-better",
   "metadata": {
    "scrolled": true
   },
   "outputs": [],
   "source": [
    "# Flag last readings for each unit\n",
    "for u in rul_df.index:\n",
    "    y_test.loc[u,'rul_flag'] = (y_test.loc[u,'time'] == y_test.loc[u,'time'].max()).astype(int)\n"
   ]
  },
  {
   "cell_type": "code",
   "execution_count": 306,
   "id": "boring-commercial",
   "metadata": {},
   "outputs": [],
   "source": [
    "# Lookup RUL in rul_df and calculate the rest of the columns\n",
    "for i in reversed(range(len(y_test))):\n",
    "    if y_test.iloc[i,2] == 1:\n",
    "        y_test.iloc[i,1] = rul_df.loc[y_test.iloc[i].name,(['RUL'])]\n",
    "    else:\n",
    "        y_test.iloc[i,1] = y_test.iloc[i+1,1]+1"
   ]
  },
  {
   "cell_type": "code",
   "execution_count": 307,
   "id": "international-socket",
   "metadata": {},
   "outputs": [],
   "source": [
    "# Drop all columns except RUL\n",
    "y_test = y_test.drop(columns=['time', 'rul_flag'])"
   ]
  },
  {
   "cell_type": "markdown",
   "id": "refined-kelly",
   "metadata": {},
   "source": [
    "# Split Data"
   ]
  },
  {
   "cell_type": "code",
   "execution_count": 309,
   "id": "optical-notification",
   "metadata": {
    "scrolled": true
   },
   "outputs": [],
   "source": [
    "target = 'RUL'\n",
    "\n",
    "# YOUR CODE HERE\n",
    "y=df1[target]\n",
    "X=df1.drop(columns=target)\n",
    "\n",
    "y_test=y_test  #Delete after wrangle\n",
    "X_test=dft1\n",
    "\n",
    "assert X_test.shape[0] == y_test.shape[0]"
   ]
  },
  {
   "cell_type": "markdown",
   "id": "allied-denmark",
   "metadata": {
    "scrolled": true
   },
   "source": [
    "##Delete\n",
    "\n",
    "ruldf=[0]*5\n",
    "df=[0]*5\n",
    "\n",
    "##Read csvs and assign them to df[1] to df[4]\n",
    "for n in range(1,5):\n",
    "    df[n]=pd.read_csv(files[n-1], delimiter=\" \", names=col_names, header=None, index_col=False)\n",
    "    df[n]=df[n].set_index('unit_no')\n",
    "    \n",
    "    ##Create Remaining Useful Life column (RUL), which is = to the number of readings before failure \n",
    "    # (the last reading for each unit is in this dataset represents failure)\n",
    "    ruldf[n]=df[n][['time']].groupby(by='unit_no').max()\n",
    "    for x in ruldf[n].index:\n",
    "        df[n].loc[x,'RUL'] = ruldf[n].loc[x,'time'] - df[n].loc[x,'time']\n"
   ]
  },
  {
   "cell_type": "markdown",
   "id": "controlled-wheat",
   "metadata": {},
   "source": [
    "# Baseline"
   ]
  },
  {
   "cell_type": "code",
   "execution_count": 311,
   "id": "hairy-phase",
   "metadata": {},
   "outputs": [
    {
     "name": "stdout",
     "output_type": "stream",
     "text": [
      "Mean RUL: 107.80786195530997\n",
      "Baseline MAE: 56.85860201806482\n"
     ]
    }
   ],
   "source": [
    "#Baseline will be mean for now:\n",
    "y_pred = [y.mean()] * len(y)\n",
    "print('Mean RUL:', y.mean())\n",
    "print('Baseline MAE:', mean_absolute_error(y, y_pred))\n"
   ]
  },
  {
   "cell_type": "markdown",
   "id": "aggressive-brunswick",
   "metadata": {},
   "source": [
    "# Model"
   ]
  },
  {
   "cell_type": "markdown",
   "id": "innovative-bunch",
   "metadata": {},
   "source": [
    "### Random Forest Regressor:"
   ]
  },
  {
   "cell_type": "code",
   "execution_count": 312,
   "id": "breeding-bachelor",
   "metadata": {},
   "outputs": [
    {
     "data": {
      "text/plain": [
       "RandomForestRegressor(random_state=42)"
      ]
     },
     "execution_count": 312,
     "metadata": {},
     "output_type": "execute_result"
    }
   ],
   "source": [
    "regr = RandomForestRegressor(random_state=42)\n",
    "regr.fit(X,y)"
   ]
  },
  {
   "cell_type": "code",
   "execution_count": 336,
   "id": "resistant-powell",
   "metadata": {
    "scrolled": true
   },
   "outputs": [
    {
     "name": "stdout",
     "output_type": "stream",
     "text": [
      "RFR training MAE: 9.373494740923853\n",
      "RFR test MAE: 14.334459102902374\n"
     ]
    }
   ],
   "source": [
    "print('RFR training MAE:', mean_absolute_error(y, regr.predict(X)))\n",
    "print('RFR test MAE:', mean_absolute_error(y_test.loc[(y_test.index<=5) & (y_test.index>1)], \n",
    "                                           regr.predict(X_test.loc[(X_test.index<=5) & (X_test.index>1)])))"
   ]
  },
  {
   "cell_type": "code",
   "execution_count": 337,
   "id": "packed-shore",
   "metadata": {},
   "outputs": [
    {
     "data": {
      "text/plain": [
       "<matplotlib.collections.PathCollection at 0x169b6ba8d00>"
      ]
     },
     "execution_count": 337,
     "metadata": {},
     "output_type": "execute_result"
    },
    {
     "data": {
      "image/png": "[encoded data removed]",
      "text/plain": [
       "<Figure size 432x288 with 1 Axes>"
      ]
     },
     "metadata": {
      "needs_background": "light"
     },
     "output_type": "display_data"
    }
   ],
   "source": [
    "plt.scatter(regr.predict(X_test.loc[X_test.index==1]),X_test.loc[X_test.index == 1, 'time'])\n"
   ]
  },
  {
   "cell_type": "markdown",
   "id": "bored-anger",
   "metadata": {},
   "source": [
    "### Logistic Regression"
   ]
  },
  {
   "cell_type": "code",
   "execution_count": 317,
   "id": "descending-synthesis",
   "metadata": {},
   "outputs": [
    {
     "name": "stderr",
     "output_type": "stream",
     "text": [
      "c:\\users\\ncarv\\.virtualenvs\\github-ka8fdyb0\\lib\\site-packages\\sklearn\\linear_model\\_logistic.py:763: ConvergenceWarning: lbfgs failed to converge (status=1):\n",
      "STOP: TOTAL NO. of ITERATIONS REACHED LIMIT.\n",
      "\n",
      "Increase the number of iterations (max_iter) or scale the data as shown in:\n",
      "    https://scikit-learn.org/stable/modules/preprocessing.html\n",
      "Please also refer to the documentation for alternative solver options:\n",
      "    https://scikit-learn.org/stable/modules/linear_model.html#logistic-regression\n",
      "  n_iter_i = _check_optimize_result(\n"
     ]
    },
    {
     "data": {
      "text/plain": [
       "LogisticRegression()"
      ]
     },
     "execution_count": 317,
     "metadata": {},
     "output_type": "execute_result"
    }
   ],
   "source": [
    "model_lr = LogisticRegression()\n",
    "\n",
    "\n",
    "model_lr.fit(X,y)"
   ]
  },
  {
   "cell_type": "code",
   "execution_count": 318,
   "id": "pleasant-calculation",
   "metadata": {},
   "outputs": [
    {
     "name": "stdout",
     "output_type": "stream",
     "text": [
      "LR training MAE: 35.87014686636615\n",
      "LR test MAE: 39.872251069028714\n"
     ]
    }
   ],
   "source": [
    "print('LR training MAE:', mean_absolute_error(y, model_lr.predict(X)))\n",
    "print('LR test MAE:', mean_absolute_error(y_test, model_lr.predict(X_test)))"
   ]
  },
  {
   "cell_type": "markdown",
   "id": "rising-bleeding",
   "metadata": {},
   "source": [
    "# Figures:"
   ]
  },
  {
   "cell_type": "markdown",
   "id": "paperback-wales",
   "metadata": {},
   "source": [
    "fig, axs = plt.subplots(6, 4)\n",
    "for n in range(1,5):\n",
    "    axs[0,n-1].plot(df[n]['sens_meas_2'], df[n]['RUL'])\n",
    "    axs[1,n-1].plot(df[n]['sens_meas_3'], df[n]['RUL'])\n",
    "    axs[2,n-1].plot(df[n]['sens_meas_4'], df[n]['RUL'])\n",
    "    axs[3,n-1].plot(df[n]['sens_meas_5'], df[n]['RUL'])\n",
    "    axs[4,n-1].plot(df[n]['sens_meas_6'], df[n]['RUL'])\n",
    "    axs[5,n-1].plot(df[n]['sens_meas_7'], df[n]['RUL'])\n",
    "#     \n",
    "axs[0, 0].set_title('Dataset 1')\n",
    "axs[0, 1].set_title('Dataset 2')\n",
    "axs[0, 2].set_title('Dataset 3')\n",
    "axs[0, 3].set_title('Dataset 4')\n",
    "    \n",
    "for ax in axs.flat:\n",
    "    ax.label_outer()\n",
    "    \n"
   ]
  },
  {
   "cell_type": "markdown",
   "id": "sufficient-billion",
   "metadata": {},
   "source": [
    "fig, axs = plt.subplots(4, 4)\n",
    "axs[0, 0].plot(df[1]['sens_meas_2'], df[1]['RUL'])\n",
    "axs[0, 0].set_title('Dataset 1')\n",
    "\n",
    "axs[0, 1].plot(df[1]['time'], df[1]['RUL'], 'tab:orange')\n",
    "axs[0, 1].set_title('Dataset 2')\n",
    "\n",
    "axs[0, 2].plot(df[1]['time'], df[1]['RUL'], 'tab:orange')\n",
    "axs[0, 2].set_title('Dataset 3')\n",
    "\n",
    "axs[0, 3].plot(df[1]['sens_meas_2'], df[1]['RUL'], 'tab:red')\n",
    "axs[0, 3].set_title('Dataset 4')\n",
    "\n",
    "# axs[0, 4].plot(df[1]['sens_meas_2'], df[1]['RUL'], 'tab:red')\n",
    "# axs[0, 4].set_title('Dataset 4')\n",
    "\n",
    "axs[1, 0].plot(df[1]['time'], df[1]['RUL'], 'tab:green')\n",
    "\n",
    "axs[1, 1].plot(df[1]['time'], df[1]['RUL'], 'tab:red')\n",
    "axs[0, 2].plot(df[1]['op_set1'], df[1]['RUL'], 'tab:red')\n",
    "\n",
    "\n",
    "for ax in axs.flat:\n",
    "    ax.set(xlabel='x', ylabel='y-label')\n",
    "\n",
    "# Hide x labels and tick labels for top plots and y ticks for right plots.\n",
    "for ax in axs.flat:\n",
    "    ax.label_outer()\n",
    "    \n",
    "ax.autoscale()"
   ]
  },
  {
   "cell_type": "markdown",
   "id": "printable-minister",
   "metadata": {},
   "source": [
    "fig, axs = plt.subplots(4, 4)\n",
    "axs[0, 0].plot(df[1]['time'], df[1]['sens_meas_2'])\n",
    "axs[0, 0].set_title('Dataset 1')\n",
    "\n",
    "axs[0, 1].plot(df[1]['time'], df[1]['RUL'], 'tab:orange')\n",
    "axs[0, 1].set_title('Dataset 2')\n",
    "\n",
    "axs[0, 2].plot(df[1]['time'], df[1]['RUL'], 'tab:orange')\n",
    "axs[0, 2].set_title('Dataset 3')\n",
    "\n",
    "axs[0, 3].plot(df[1]['sens_meas_2'], df[1]['RUL'], 'tab:red')\n",
    "axs[0, 3].set_title('Dataset 4')\n",
    "\n",
    "# axs[0, 4].plot(df[1]['sens_meas_2'], df[1]['RUL'], 'tab:red')\n",
    "# axs[0, 4].set_title('Dataset 4')\n",
    "\n",
    "axs[1, 0].plot(df[1]['time'], df[1]['RUL'], 'tab:green')\n",
    "\n",
    "axs[1, 1].plot(df[1]['time'], df[1]['RUL'], 'tab:red')\n",
    "axs[0, 2].plot(df[1]['op_set1'], df[1]['RUL'], 'tab:red')\n",
    "\n",
    "\n",
    "for ax in axs.flat:\n",
    "    ax.set(xlabel='x', ylabel='y-label')\n",
    "\n",
    "# Hide x labels and tick labels for top plots and y ticks for right plots.\n",
    "for ax in axs.flat:\n",
    "    ax.label_outer()\n",
    "    \n",
    "ax.autoscale()"
   ]
  },
  {
   "cell_type": "markdown",
   "id": "continuous-dryer",
   "metadata": {},
   "source": [
    "Complete these tasks for your project, and document your decisions.\n",
    "\n",
    "Choose your target. Which column in your tabular dataset will you predict?\n",
    "**The column to be used is the 'Remaining Useful Life' column**\n",
    "Is your problem regression or classification?\n",
    "**Classification**\n",
    "How is your target distributed?\n",
    "\n",
    "Classification: How many classes? Are the classes imbalanced?\n",
    "Regression: Is the target right-skewed? If so, you may want to log transform the target.\n",
    "Choose your evaluation metric(s).\n",
    "**The nature of the data makes this target neither left nor right skewed**\n",
    "\n",
    "Classification: Is your majority class frequency >= 50% and < 70% ? If so, you can just use accuracy if you want. Outside that range, accuracy could be misleading. What evaluation metric will you choose, in addition to or instead of accuracy?\n",
    "Regression: Will you use mean absolute error, root mean squared error, R^2, or other regression metrics?\n",
    "**Probably RMSE and R2**\n",
    "Choose which observations you will use to train, validate, and test your model.\n",
    "**All**\n",
    "Are some observations outliers? Will you exclude them?\n",
    "**Haven't found any, only will exclude columns where all values are the same**\n",
    "Will you do a random split or a time-based split?\n",
    "**Data is already split randomly**\n",
    "Begin to clean and explore your data.\n",
    "Begin to choose which features, if any, to exclude. Would some features \"leak\" future information?"
   ]
  },
  {
   "cell_type": "code",
   "execution_count": 107,
   "id": "furnished-frame",
   "metadata": {},
   "outputs": [
    {
     "data": {
      "text/html": [
       "<div>\n",
       "<style scoped>\n",
       "    .dataframe tbody tr th:only-of-type {\n",
       "        vertical-align: middle;\n",
       "    }\n",
       "\n",
       "    .dataframe tbody tr th {\n",
       "        vertical-align: top;\n",
       "    }\n",
       "\n",
       "    .dataframe thead th {\n",
       "        text-align: right;\n",
       "    }\n",
       "</style>\n",
       "<table border=\"1\" class=\"dataframe\">\n",
       "  <thead>\n",
       "    <tr style=\"text-align: right;\">\n",
       "      <th></th>\n",
       "      <th>0</th>\n",
       "    </tr>\n",
       "  </thead>\n",
       "  <tbody>\n",
       "    <tr>\n",
       "      <th>0</th>\n",
       "      <td>112</td>\n",
       "    </tr>\n",
       "    <tr>\n",
       "      <th>1</th>\n",
       "      <td>98</td>\n",
       "    </tr>\n",
       "    <tr>\n",
       "      <th>2</th>\n",
       "      <td>69</td>\n",
       "    </tr>\n",
       "    <tr>\n",
       "      <th>3</th>\n",
       "      <td>82</td>\n",
       "    </tr>\n",
       "    <tr>\n",
       "      <th>4</th>\n",
       "      <td>91</td>\n",
       "    </tr>\n",
       "    <tr>\n",
       "      <th>...</th>\n",
       "      <td>...</td>\n",
       "    </tr>\n",
       "    <tr>\n",
       "      <th>95</th>\n",
       "      <td>137</td>\n",
       "    </tr>\n",
       "    <tr>\n",
       "      <th>96</th>\n",
       "      <td>82</td>\n",
       "    </tr>\n",
       "    <tr>\n",
       "      <th>97</th>\n",
       "      <td>59</td>\n",
       "    </tr>\n",
       "    <tr>\n",
       "      <th>98</th>\n",
       "      <td>117</td>\n",
       "    </tr>\n",
       "    <tr>\n",
       "      <th>99</th>\n",
       "      <td>20</td>\n",
       "    </tr>\n",
       "  </tbody>\n",
       "</table>\n",
       "<p>100 rows × 1 columns</p>\n",
       "</div>"
      ],
      "text/plain": [
       "      0\n",
       "0   112\n",
       "1    98\n",
       "2    69\n",
       "3    82\n",
       "4    91\n",
       "..  ...\n",
       "95  137\n",
       "96   82\n",
       "97   59\n",
       "98  117\n",
       "99   20\n",
       "\n",
       "[100 rows x 1 columns]"
      ]
     },
     "execution_count": 107,
     "metadata": {},
     "output_type": "execute_result"
    }
   ],
   "source": [
    "df1=pd.read_csv('./data/RUL_FD001.txt', header=None)\n",
    "df1"
   ]
  }
 ],
 "metadata": {
  "kernelspec": {
   "display_name": "Python 3",
   "language": "python",
   "name": "python3"
  },
  "language_info": {
   "codemirror_mode": {
    "name": "ipython",
    "version": 3
   },
   "file_extension": ".py",
   "mimetype": "text/x-python",
   "name": "python",
   "nbconvert_exporter": "python",
   "pygments_lexer": "ipython3",
   "version": "3.8.7"
  }
 },
 "nbformat": 4,
 "nbformat_minor": 5
}
