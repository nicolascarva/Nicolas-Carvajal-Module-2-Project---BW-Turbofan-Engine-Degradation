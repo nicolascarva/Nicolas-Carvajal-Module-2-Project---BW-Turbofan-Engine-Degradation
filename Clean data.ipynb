{
 "cells": [
  {
   "cell_type": "code",
   "execution_count": 87,
   "id": "biological-zimbabwe",
   "metadata": {},
   "outputs": [],
   "source": [
    "import pandas as pd\n",
    "import numpy as np\n",
    "import matplotlib.pyplot as plt\n",
    "from glob import glob"
   ]
  },
  {
   "cell_type": "code",
   "execution_count": 89,
   "id": "third-direction",
   "metadata": {},
   "outputs": [],
   "source": [
    "n_=['']*21\n",
    "for i in range(0,21):\n",
    "    n_[i]='sens_meas_'+str(i+1)\n",
    "col_names=['unit_no', 'time', 'op_set1', 'op_set2', 'op_set3']+ n_\n",
    "\n"
   ]
  },
  {
   "cell_type": "code",
   "execution_count": 96,
   "id": "labeled-language",
   "metadata": {},
   "outputs": [],
   "source": [
    "df=pd.read_csv('./data/train_FD003.txt', delimiter=\" \", names=col_names, header=None, index_col=False)"
   ]
  },
  {
   "cell_type": "code",
   "execution_count": 92,
   "id": "similar-placement",
   "metadata": {},
   "outputs": [
    {
     "data": {
      "text/plain": [
       "['./data\\\\train_FD001.txt',\n",
       " './data\\\\train_FD002.txt',\n",
       " './data\\\\train_FD003.txt',\n",
       " './data\\\\train_FD004.txt']"
      ]
     },
     "execution_count": 92,
     "metadata": {},
     "output_type": "execute_result"
    }
   ],
   "source": [
    "files = glob('./data/train_FD00*.txt')\n",
    "frames = [wrangle(files) for file in files]\n",
    "df=pd.concat(frames,axis=0)"
   ]
  },
  {
   "cell_type": "code",
   "execution_count": 80,
   "id": "premium-vancouver",
   "metadata": {},
   "outputs": [
    {
     "ename": "NameError",
     "evalue": "name 'frames' is not defined",
     "output_type": "error",
     "traceback": [
      "\u001b[1;31m---------------------------------------------------------------------------\u001b[0m",
      "\u001b[1;31mNameError\u001b[0m                                 Traceback (most recent call last)",
      "\u001b[1;32m<ipython-input-80-8918ee4f7538>\u001b[0m in \u001b[0;36m<module>\u001b[1;34m\u001b[0m\n\u001b[1;32m----> 1\u001b[1;33m \u001b[0mdf\u001b[0m\u001b[1;33m=\u001b[0m\u001b[0mpd\u001b[0m\u001b[1;33m.\u001b[0m\u001b[0mconcat\u001b[0m\u001b[1;33m(\u001b[0m\u001b[0mframes\u001b[0m\u001b[1;33m,\u001b[0m\u001b[0maxis\u001b[0m\u001b[1;33m=\u001b[0m\u001b[1;36m0\u001b[0m\u001b[1;33m)\u001b[0m\u001b[1;33m\u001b[0m\u001b[1;33m\u001b[0m\u001b[0m\n\u001b[0m",
      "\u001b[1;31mNameError\u001b[0m: name 'frames' is not defined"
     ]
    }
   ],
   "source": [
    "df=pd.concat(frames,axis=0)"
   ]
  },
  {
   "cell_type": "code",
   "execution_count": 39,
   "id": "interior-council",
   "metadata": {},
   "outputs": [],
   "source": [
    "# uni=df.loc[:,(df.nunique()==1)].columns\n",
    "# df=df.drop(columns=uni)"
   ]
  },
  {
   "cell_type": "code",
   "execution_count": 97,
   "id": "egyptian-perry",
   "metadata": {
    "scrolled": true
   },
   "outputs": [
    {
     "data": {
      "text/html": [
       "<div>\n",
       "<style scoped>\n",
       "    .dataframe tbody tr th:only-of-type {\n",
       "        vertical-align: middle;\n",
       "    }\n",
       "\n",
       "    .dataframe tbody tr th {\n",
       "        vertical-align: top;\n",
       "    }\n",
       "\n",
       "    .dataframe thead th {\n",
       "        text-align: right;\n",
       "    }\n",
       "</style>\n",
       "<table border=\"1\" class=\"dataframe\">\n",
       "  <thead>\n",
       "    <tr style=\"text-align: right;\">\n",
       "      <th></th>\n",
       "      <th>unit_no</th>\n",
       "      <th>time</th>\n",
       "      <th>op_set1</th>\n",
       "      <th>op_set2</th>\n",
       "      <th>op_set3</th>\n",
       "      <th>sens_meas_1</th>\n",
       "      <th>sens_meas_2</th>\n",
       "      <th>sens_meas_3</th>\n",
       "      <th>sens_meas_4</th>\n",
       "      <th>sens_meas_5</th>\n",
       "      <th>sens_meas_6</th>\n",
       "      <th>sens_meas_7</th>\n",
       "      <th>sens_meas_8</th>\n",
       "      <th>sens_meas_9</th>\n",
       "      <th>sens_meas_10</th>\n",
       "      <th>sens_meas_11</th>\n",
       "      <th>sens_meas_12</th>\n",
       "      <th>sens_meas_13</th>\n",
       "      <th>sens_meas_14</th>\n",
       "      <th>sens_meas_15</th>\n",
       "      <th>sens_meas_16</th>\n",
       "      <th>sens_meas_17</th>\n",
       "      <th>sens_meas_18</th>\n",
       "      <th>sens_meas_19</th>\n",
       "      <th>sens_meas_20</th>\n",
       "      <th>sens_meas_21</th>\n",
       "    </tr>\n",
       "  </thead>\n",
       "  <tbody>\n",
       "    <tr>\n",
       "      <th>0</th>\n",
       "      <td>1</td>\n",
       "      <td>1</td>\n",
       "      <td>-0.0005</td>\n",
       "      <td>0.0004</td>\n",
       "      <td>100.0</td>\n",
       "      <td>518.67</td>\n",
       "      <td>642.36</td>\n",
       "      <td>1583.23</td>\n",
       "      <td>1396.84</td>\n",
       "      <td>14.62</td>\n",
       "      <td>21.61</td>\n",
       "      <td>553.97</td>\n",
       "      <td>2387.96</td>\n",
       "      <td>9062.17</td>\n",
       "      <td>1.3</td>\n",
       "      <td>47.30</td>\n",
       "      <td>522.31</td>\n",
       "      <td>2388.01</td>\n",
       "      <td>8145.32</td>\n",
       "      <td>8.4246</td>\n",
       "      <td>0.03</td>\n",
       "      <td>391</td>\n",
       "      <td>2388</td>\n",
       "      <td>100.0</td>\n",
       "      <td>39.11</td>\n",
       "      <td>23.3537</td>\n",
       "    </tr>\n",
       "    <tr>\n",
       "      <th>1</th>\n",
       "      <td>1</td>\n",
       "      <td>2</td>\n",
       "      <td>0.0008</td>\n",
       "      <td>-0.0003</td>\n",
       "      <td>100.0</td>\n",
       "      <td>518.67</td>\n",
       "      <td>642.50</td>\n",
       "      <td>1584.69</td>\n",
       "      <td>1396.89</td>\n",
       "      <td>14.62</td>\n",
       "      <td>21.61</td>\n",
       "      <td>554.55</td>\n",
       "      <td>2388.00</td>\n",
       "      <td>9061.78</td>\n",
       "      <td>1.3</td>\n",
       "      <td>47.23</td>\n",
       "      <td>522.42</td>\n",
       "      <td>2388.03</td>\n",
       "      <td>8152.85</td>\n",
       "      <td>8.4403</td>\n",
       "      <td>0.03</td>\n",
       "      <td>392</td>\n",
       "      <td>2388</td>\n",
       "      <td>100.0</td>\n",
       "      <td>38.99</td>\n",
       "      <td>23.4491</td>\n",
       "    </tr>\n",
       "    <tr>\n",
       "      <th>2</th>\n",
       "      <td>1</td>\n",
       "      <td>3</td>\n",
       "      <td>-0.0014</td>\n",
       "      <td>-0.0002</td>\n",
       "      <td>100.0</td>\n",
       "      <td>518.67</td>\n",
       "      <td>642.18</td>\n",
       "      <td>1582.35</td>\n",
       "      <td>1405.61</td>\n",
       "      <td>14.62</td>\n",
       "      <td>21.61</td>\n",
       "      <td>554.43</td>\n",
       "      <td>2388.03</td>\n",
       "      <td>9070.23</td>\n",
       "      <td>1.3</td>\n",
       "      <td>47.22</td>\n",
       "      <td>522.03</td>\n",
       "      <td>2388.00</td>\n",
       "      <td>8150.17</td>\n",
       "      <td>8.3901</td>\n",
       "      <td>0.03</td>\n",
       "      <td>391</td>\n",
       "      <td>2388</td>\n",
       "      <td>100.0</td>\n",
       "      <td>38.85</td>\n",
       "      <td>23.3669</td>\n",
       "    </tr>\n",
       "    <tr>\n",
       "      <th>3</th>\n",
       "      <td>1</td>\n",
       "      <td>4</td>\n",
       "      <td>-0.0020</td>\n",
       "      <td>0.0001</td>\n",
       "      <td>100.0</td>\n",
       "      <td>518.67</td>\n",
       "      <td>642.92</td>\n",
       "      <td>1585.61</td>\n",
       "      <td>1392.27</td>\n",
       "      <td>14.62</td>\n",
       "      <td>21.61</td>\n",
       "      <td>555.21</td>\n",
       "      <td>2388.00</td>\n",
       "      <td>9064.57</td>\n",
       "      <td>1.3</td>\n",
       "      <td>47.24</td>\n",
       "      <td>522.49</td>\n",
       "      <td>2388.08</td>\n",
       "      <td>8146.56</td>\n",
       "      <td>8.3878</td>\n",
       "      <td>0.03</td>\n",
       "      <td>392</td>\n",
       "      <td>2388</td>\n",
       "      <td>100.0</td>\n",
       "      <td>38.96</td>\n",
       "      <td>23.2951</td>\n",
       "    </tr>\n",
       "    <tr>\n",
       "      <th>4</th>\n",
       "      <td>1</td>\n",
       "      <td>5</td>\n",
       "      <td>0.0016</td>\n",
       "      <td>0.0000</td>\n",
       "      <td>100.0</td>\n",
       "      <td>518.67</td>\n",
       "      <td>641.68</td>\n",
       "      <td>1588.63</td>\n",
       "      <td>1397.65</td>\n",
       "      <td>14.62</td>\n",
       "      <td>21.61</td>\n",
       "      <td>554.74</td>\n",
       "      <td>2388.04</td>\n",
       "      <td>9076.14</td>\n",
       "      <td>1.3</td>\n",
       "      <td>47.15</td>\n",
       "      <td>522.58</td>\n",
       "      <td>2388.03</td>\n",
       "      <td>8147.80</td>\n",
       "      <td>8.3869</td>\n",
       "      <td>0.03</td>\n",
       "      <td>392</td>\n",
       "      <td>2388</td>\n",
       "      <td>100.0</td>\n",
       "      <td>39.14</td>\n",
       "      <td>23.4583</td>\n",
       "    </tr>\n",
       "  </tbody>\n",
       "</table>\n",
       "</div>"
      ],
      "text/plain": [
       "   unit_no  time  op_set1  op_set2  op_set3  sens_meas_1  sens_meas_2  \\\n",
       "0        1     1  -0.0005   0.0004    100.0       518.67       642.36   \n",
       "1        1     2   0.0008  -0.0003    100.0       518.67       642.50   \n",
       "2        1     3  -0.0014  -0.0002    100.0       518.67       642.18   \n",
       "3        1     4  -0.0020   0.0001    100.0       518.67       642.92   \n",
       "4        1     5   0.0016   0.0000    100.0       518.67       641.68   \n",
       "\n",
       "   sens_meas_3  sens_meas_4  sens_meas_5  sens_meas_6  sens_meas_7  \\\n",
       "0      1583.23      1396.84        14.62        21.61       553.97   \n",
       "1      1584.69      1396.89        14.62        21.61       554.55   \n",
       "2      1582.35      1405.61        14.62        21.61       554.43   \n",
       "3      1585.61      1392.27        14.62        21.61       555.21   \n",
       "4      1588.63      1397.65        14.62        21.61       554.74   \n",
       "\n",
       "   sens_meas_8  sens_meas_9  sens_meas_10  sens_meas_11  sens_meas_12  \\\n",
       "0      2387.96      9062.17           1.3         47.30        522.31   \n",
       "1      2388.00      9061.78           1.3         47.23        522.42   \n",
       "2      2388.03      9070.23           1.3         47.22        522.03   \n",
       "3      2388.00      9064.57           1.3         47.24        522.49   \n",
       "4      2388.04      9076.14           1.3         47.15        522.58   \n",
       "\n",
       "   sens_meas_13  sens_meas_14  sens_meas_15  sens_meas_16  sens_meas_17  \\\n",
       "0       2388.01       8145.32        8.4246          0.03           391   \n",
       "1       2388.03       8152.85        8.4403          0.03           392   \n",
       "2       2388.00       8150.17        8.3901          0.03           391   \n",
       "3       2388.08       8146.56        8.3878          0.03           392   \n",
       "4       2388.03       8147.80        8.3869          0.03           392   \n",
       "\n",
       "   sens_meas_18  sens_meas_19  sens_meas_20  sens_meas_21  \n",
       "0          2388         100.0         39.11       23.3537  \n",
       "1          2388         100.0         38.99       23.4491  \n",
       "2          2388         100.0         38.85       23.3669  \n",
       "3          2388         100.0         38.96       23.2951  \n",
       "4          2388         100.0         39.14       23.4583  "
      ]
     },
     "execution_count": 97,
     "metadata": {},
     "output_type": "execute_result"
    }
   ],
   "source": [
    "# df=pd.read_csv('./data/train_FD001.txt', delimiter=\" \")\n",
    "pd.set_option('display.max_columns',50)\n",
    "df.head()"
   ]
  },
  {
   "cell_type": "code",
   "execution_count": 98,
   "id": "constitutional-heath",
   "metadata": {},
   "outputs": [
    {
     "data": {
      "text/plain": [
       "100.0    24720\n",
       "Name: sens_meas_19, dtype: int64"
      ]
     },
     "execution_count": 98,
     "metadata": {},
     "output_type": "execute_result"
    }
   ],
   "source": [
    "df['sens_meas_19'].value_counts()"
   ]
  },
  {
   "cell_type": "code",
   "execution_count": 99,
   "id": "falling-federation",
   "metadata": {},
   "outputs": [
    {
     "data": {
      "text/plain": [
       "unit_no          100\n",
       "time             525\n",
       "op_set1          160\n",
       "op_set2           14\n",
       "op_set3            1\n",
       "sens_meas_1        1\n",
       "sens_meas_2      334\n",
       "sens_meas_3     3358\n",
       "sens_meas_4     4383\n",
       "sens_meas_5        1\n",
       "sens_meas_6       17\n",
       "sens_meas_7     1854\n",
       "sens_meas_8      161\n",
       "sens_meas_9     7114\n",
       "sens_meas_10       4\n",
       "sens_meas_11     170\n",
       "sens_meas_12    1772\n",
       "sens_meas_13     163\n",
       "sens_meas_14    6320\n",
       "sens_meas_15    3122\n",
       "sens_meas_16       1\n",
       "sens_meas_17      12\n",
       "sens_meas_18       1\n",
       "sens_meas_19       1\n",
       "sens_meas_20     165\n",
       "sens_meas_21    6440\n",
       "dtype: int64"
      ]
     },
     "execution_count": 99,
     "metadata": {},
     "output_type": "execute_result"
    }
   ],
   "source": [
    "df.nunique()"
   ]
  },
  {
   "cell_type": "code",
   "execution_count": 102,
   "id": "accessory-particular",
   "metadata": {},
   "outputs": [
    {
     "data": {
      "text/plain": [
       "<matplotlib.collections.PathCollection at 0x1a865c05e50>"
      ]
     },
     "execution_count": 102,
     "metadata": {},
     "output_type": "execute_result"
    },
    {
     "data": {
      "image/png": "[encoded data removed]",
      "text/plain": [
       "<Figure size 432x288 with 1 Axes>"
      ]
     },
     "metadata": {
      "needs_background": "light"
     },
     "output_type": "display_data"
    }
   ],
   "source": [
    "plt.scatter(df['time'], df['sens_meas_7'])"
   ]
  }
 ],
 "metadata": {
  "kernelspec": {
   "display_name": "Python 3",
   "language": "python",
   "name": "python3"
  },
  "language_info": {
   "codemirror_mode": {
    "name": "ipython",
    "version": 3
   },
   "file_extension": ".py",
   "mimetype": "text/x-python",
   "name": "python",
   "nbconvert_exporter": "python",
   "pygments_lexer": "ipython3",
   "version": "3.8.7"
  }
 },
 "nbformat": 4,
 "nbformat_minor": 5
}
