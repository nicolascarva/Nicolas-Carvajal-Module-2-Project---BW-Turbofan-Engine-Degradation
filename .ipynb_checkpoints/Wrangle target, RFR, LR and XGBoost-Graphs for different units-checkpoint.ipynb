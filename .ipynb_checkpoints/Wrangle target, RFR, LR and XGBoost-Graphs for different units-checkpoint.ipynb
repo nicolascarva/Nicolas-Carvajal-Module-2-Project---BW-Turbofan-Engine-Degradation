{
 "cells": [
  {
   "cell_type": "markdown",
   "id": "narrow-facial",
   "metadata": {},
   "source": [
    "##Concatenate files:"
   ]
  },
  {
   "cell_type": "markdown",
   "id": "public-positive",
   "metadata": {},
   "source": [
    "files = glob('./data/train_FD00*.txt')\n",
    "frames = [wrangle(files) for file in files]\n",
    "df=pd.concat(frames,axis=0)"
   ]
  },
  {
   "cell_type": "markdown",
   "id": "announced-brief",
   "metadata": {},
   "source": [
    "df=pd.concat(frames,axis=0)"
   ]
  },
  {
   "cell_type": "code",
   "execution_count": 85,
   "id": "unsigned-objective",
   "metadata": {},
   "outputs": [],
   "source": [
    "import pandas as pd\n",
    "import numpy as np\n",
    "import matplotlib.pyplot as plt\n",
    "from glob import glob\n",
    "import os\n",
    "from sklearn.ensemble import RandomForestRegressor\n",
    "from sklearn.linear_model import LogisticRegression\n",
    "from sklearn.metrics import mean_absolute_error, mean_squared_error\n",
    "import xgboost as xg \n",
    "\n",
    "pd.set_option('display.max_columns',50)\n"
   ]
  },
  {
   "cell_type": "code",
   "execution_count": 86,
   "id": "preliminary-wrong",
   "metadata": {
    "scrolled": true
   },
   "outputs": [
    {
     "data": {
      "text/plain": [
       "'./data/train_FD001.txt'"
      ]
     },
     "execution_count": 86,
     "metadata": {},
     "output_type": "execute_result"
    }
   ],
   "source": [
    "files = glob('./data/train_FD00*.txt')\n",
    "files[0]= files[0].replace('\\\\', '/')\n",
    "files[0]"
   ]
  },
  {
   "cell_type": "code",
   "execution_count": 87,
   "id": "assigned-palmer",
   "metadata": {},
   "outputs": [],
   "source": [
    "n_=['']*21\n",
    "df=[0]*5\n",
    "ruldf=[0]*5\n",
    "drop_cols=[0]*5\n",
    "for i in range(0,21):\n",
    "    n_[i]='sens_meas_'+str(i+1)\n",
    "col_names=['unit_no', 'time', 'op_set1', 'op_set2', 'op_set3']+ n_\n",
    "\n",
    "##Read csvs and assign them to df[1] to df[4]\n",
    "for n in range(1,5):\n",
    "    df[n]=pd.read_csv(files[n-1], delimiter=\" \", names=col_names, header=None, index_col=False)\n",
    "    df[n]=df[n].set_index('unit_no')\n",
    "    \n",
    "   #Drop columns with a single value accross all rows\n",
    "    drop_cols[n] = [col for col in df[n]\n",
    "               if df[n][col].nunique() == 1]\n",
    "    df[n]=df[n].drop(columns=drop_cols[n])\n",
    "    \n",
    "    ##Create Remaining Useful Life column (RUL), which is = to the number of readings before failure \n",
    "    # (the last reading for each unit is in this dataset represents failure)\n",
    "    ruldf[n]=df[n][['time']].groupby(by='unit_no').max()\n",
    "    for x in ruldf[n].index:\n",
    "        df[n].loc[x,'RUL'] = ruldf[n].loc[x,'time'] - df[n].loc[x,'time']"
   ]
  },
  {
   "cell_type": "markdown",
   "id": "roman-arthur",
   "metadata": {},
   "source": [
    " # Wrangle Test\n",
    " "
   ]
  },
  {
   "cell_type": "code",
   "execution_count": 88,
   "id": "narrative-passion",
   "metadata": {},
   "outputs": [
    {
     "data": {
      "text/plain": [
       "'./data/test_FD001.txt'"
      ]
     },
     "execution_count": 88,
     "metadata": {},
     "output_type": "execute_result"
    }
   ],
   "source": [
    "files = glob('./data/test_FD00*.txt')\n",
    "files[0]= files[0].replace('\\\\', '/')\n",
    "files[0]"
   ]
  },
  {
   "cell_type": "markdown",
   "id": "supreme-district",
   "metadata": {},
   "source": [
    " ### Copy function for now, DELETE after wrangle for train and test is done"
   ]
  },
  {
   "cell_type": "code",
   "execution_count": 89,
   "id": "prime-departure",
   "metadata": {},
   "outputs": [],
   "source": [
    "n_=['']*21\n",
    "dft=[0]*5\n",
    "ruldft=[0]*5\n",
    "drop_cols=[0]*5\n",
    "for i in range(0,21):\n",
    "    n_[i]='sens_meas_'+str(i+1)\n",
    "col_names=['unit_no', 'time', 'op_set1', 'op_set2', 'op_set3']+ n_\n",
    "\n",
    "##Read csvs and assign them to dft[1] to dft[4]\n",
    "for n in range(1,5):\n",
    "    dft[n]=pd.read_csv(files[n-1], delimiter=\" \", names=col_names, header=None, index_col=False)\n",
    "    dft[n]=dft[n].set_index('unit_no')\n",
    "    \n",
    "   #Drop columns with a single value accross all rows\n",
    "    drop_cols[n] = [col for col in dft[n]\n",
    "               if dft[n][col].nunique() == 1]\n",
    "    dft[n]=dft[n].drop(columns=drop_cols[n])\n",
    "    \n"
   ]
  },
  {
   "cell_type": "code",
   "execution_count": 90,
   "id": "prepared-conditions",
   "metadata": {},
   "outputs": [
    {
     "data": {
      "text/html": [
       "<div>\n",
       "<style scoped>\n",
       "    .dataframe tbody tr th:only-of-type {\n",
       "        vertical-align: middle;\n",
       "    }\n",
       "\n",
       "    .dataframe tbody tr th {\n",
       "        vertical-align: top;\n",
       "    }\n",
       "\n",
       "    .dataframe thead th {\n",
       "        text-align: right;\n",
       "    }\n",
       "</style>\n",
       "<table border=\"1\" class=\"dataframe\">\n",
       "  <thead>\n",
       "    <tr style=\"text-align: right;\">\n",
       "      <th></th>\n",
       "      <th>time</th>\n",
       "      <th>op_set1</th>\n",
       "      <th>op_set2</th>\n",
       "      <th>sens_meas_2</th>\n",
       "      <th>sens_meas_3</th>\n",
       "      <th>sens_meas_4</th>\n",
       "      <th>sens_meas_6</th>\n",
       "      <th>sens_meas_7</th>\n",
       "      <th>sens_meas_8</th>\n",
       "      <th>sens_meas_9</th>\n",
       "      <th>sens_meas_11</th>\n",
       "      <th>sens_meas_12</th>\n",
       "      <th>sens_meas_13</th>\n",
       "      <th>sens_meas_14</th>\n",
       "      <th>sens_meas_15</th>\n",
       "      <th>sens_meas_17</th>\n",
       "      <th>sens_meas_20</th>\n",
       "      <th>sens_meas_21</th>\n",
       "    </tr>\n",
       "    <tr>\n",
       "      <th>unit_no</th>\n",
       "      <th></th>\n",
       "      <th></th>\n",
       "      <th></th>\n",
       "      <th></th>\n",
       "      <th></th>\n",
       "      <th></th>\n",
       "      <th></th>\n",
       "      <th></th>\n",
       "      <th></th>\n",
       "      <th></th>\n",
       "      <th></th>\n",
       "      <th></th>\n",
       "      <th></th>\n",
       "      <th></th>\n",
       "      <th></th>\n",
       "      <th></th>\n",
       "      <th></th>\n",
       "      <th></th>\n",
       "    </tr>\n",
       "  </thead>\n",
       "  <tbody>\n",
       "    <tr>\n",
       "      <th>1</th>\n",
       "      <td>1</td>\n",
       "      <td>0.0023</td>\n",
       "      <td>0.0003</td>\n",
       "      <td>643.02</td>\n",
       "      <td>1585.29</td>\n",
       "      <td>1398.21</td>\n",
       "      <td>21.61</td>\n",
       "      <td>553.90</td>\n",
       "      <td>2388.04</td>\n",
       "      <td>9050.17</td>\n",
       "      <td>47.20</td>\n",
       "      <td>521.72</td>\n",
       "      <td>2388.03</td>\n",
       "      <td>8125.55</td>\n",
       "      <td>8.4052</td>\n",
       "      <td>392</td>\n",
       "      <td>38.86</td>\n",
       "      <td>23.3735</td>\n",
       "    </tr>\n",
       "    <tr>\n",
       "      <th>1</th>\n",
       "      <td>2</td>\n",
       "      <td>-0.0027</td>\n",
       "      <td>-0.0003</td>\n",
       "      <td>641.71</td>\n",
       "      <td>1588.45</td>\n",
       "      <td>1395.42</td>\n",
       "      <td>21.61</td>\n",
       "      <td>554.85</td>\n",
       "      <td>2388.01</td>\n",
       "      <td>9054.42</td>\n",
       "      <td>47.50</td>\n",
       "      <td>522.16</td>\n",
       "      <td>2388.06</td>\n",
       "      <td>8139.62</td>\n",
       "      <td>8.3803</td>\n",
       "      <td>393</td>\n",
       "      <td>39.02</td>\n",
       "      <td>23.3916</td>\n",
       "    </tr>\n",
       "    <tr>\n",
       "      <th>1</th>\n",
       "      <td>3</td>\n",
       "      <td>0.0003</td>\n",
       "      <td>0.0001</td>\n",
       "      <td>642.46</td>\n",
       "      <td>1586.94</td>\n",
       "      <td>1401.34</td>\n",
       "      <td>21.61</td>\n",
       "      <td>554.11</td>\n",
       "      <td>2388.05</td>\n",
       "      <td>9056.96</td>\n",
       "      <td>47.50</td>\n",
       "      <td>521.97</td>\n",
       "      <td>2388.03</td>\n",
       "      <td>8130.10</td>\n",
       "      <td>8.4441</td>\n",
       "      <td>393</td>\n",
       "      <td>39.08</td>\n",
       "      <td>23.4166</td>\n",
       "    </tr>\n",
       "    <tr>\n",
       "      <th>1</th>\n",
       "      <td>4</td>\n",
       "      <td>0.0042</td>\n",
       "      <td>0.0000</td>\n",
       "      <td>642.44</td>\n",
       "      <td>1584.12</td>\n",
       "      <td>1406.42</td>\n",
       "      <td>21.61</td>\n",
       "      <td>554.07</td>\n",
       "      <td>2388.03</td>\n",
       "      <td>9045.29</td>\n",
       "      <td>47.28</td>\n",
       "      <td>521.38</td>\n",
       "      <td>2388.05</td>\n",
       "      <td>8132.90</td>\n",
       "      <td>8.3917</td>\n",
       "      <td>391</td>\n",
       "      <td>39.00</td>\n",
       "      <td>23.3737</td>\n",
       "    </tr>\n",
       "    <tr>\n",
       "      <th>1</th>\n",
       "      <td>5</td>\n",
       "      <td>0.0014</td>\n",
       "      <td>0.0000</td>\n",
       "      <td>642.51</td>\n",
       "      <td>1587.19</td>\n",
       "      <td>1401.92</td>\n",
       "      <td>21.61</td>\n",
       "      <td>554.16</td>\n",
       "      <td>2388.01</td>\n",
       "      <td>9044.55</td>\n",
       "      <td>47.31</td>\n",
       "      <td>522.15</td>\n",
       "      <td>2388.03</td>\n",
       "      <td>8129.54</td>\n",
       "      <td>8.4031</td>\n",
       "      <td>390</td>\n",
       "      <td>38.99</td>\n",
       "      <td>23.4130</td>\n",
       "    </tr>\n",
       "  </tbody>\n",
       "</table>\n",
       "</div>"
      ],
      "text/plain": [
       "         time  op_set1  op_set2  sens_meas_2  sens_meas_3  sens_meas_4  \\\n",
       "unit_no                                                                  \n",
       "1           1   0.0023   0.0003       643.02      1585.29      1398.21   \n",
       "1           2  -0.0027  -0.0003       641.71      1588.45      1395.42   \n",
       "1           3   0.0003   0.0001       642.46      1586.94      1401.34   \n",
       "1           4   0.0042   0.0000       642.44      1584.12      1406.42   \n",
       "1           5   0.0014   0.0000       642.51      1587.19      1401.92   \n",
       "\n",
       "         sens_meas_6  sens_meas_7  sens_meas_8  sens_meas_9  sens_meas_11  \\\n",
       "unit_no                                                                     \n",
       "1              21.61       553.90      2388.04      9050.17         47.20   \n",
       "1              21.61       554.85      2388.01      9054.42         47.50   \n",
       "1              21.61       554.11      2388.05      9056.96         47.50   \n",
       "1              21.61       554.07      2388.03      9045.29         47.28   \n",
       "1              21.61       554.16      2388.01      9044.55         47.31   \n",
       "\n",
       "         sens_meas_12  sens_meas_13  sens_meas_14  sens_meas_15  sens_meas_17  \\\n",
       "unit_no                                                                         \n",
       "1              521.72       2388.03       8125.55        8.4052           392   \n",
       "1              522.16       2388.06       8139.62        8.3803           393   \n",
       "1              521.97       2388.03       8130.10        8.4441           393   \n",
       "1              521.38       2388.05       8132.90        8.3917           391   \n",
       "1              522.15       2388.03       8129.54        8.4031           390   \n",
       "\n",
       "         sens_meas_20  sens_meas_21  \n",
       "unit_no                              \n",
       "1               38.86       23.3735  \n",
       "1               39.02       23.3916  \n",
       "1               39.08       23.4166  \n",
       "1               39.00       23.3737  \n",
       "1               38.99       23.4130  "
      ]
     },
     "execution_count": 90,
     "metadata": {},
     "output_type": "execute_result"
    }
   ],
   "source": [
    "dft1=dft[1] ##Change this to change dataset\n",
    "dft1.head()"
   ]
  },
  {
   "cell_type": "markdown",
   "id": "blank-client",
   "metadata": {},
   "source": [
    "# Wrangle Test Target"
   ]
  },
  {
   "cell_type": "code",
   "execution_count": 91,
   "id": "norwegian-catholic",
   "metadata": {},
   "outputs": [],
   "source": [
    "rul_df = pd.read_csv('./data/RUL_FD001.txt', header=None, names=['RUL'])\n",
    "rul_df=rul_df.set_index(rul_df.index+1) ##Set index to Unit No."
   ]
  },
  {
   "cell_type": "code",
   "execution_count": 92,
   "id": "continuing-hydrogen",
   "metadata": {},
   "outputs": [],
   "source": [
    "y_test=pd.DataFrame(dft1['time'])\n",
    "y_test.loc[:,'RUL']=0\n"
   ]
  },
  {
   "cell_type": "code",
   "execution_count": 93,
   "id": "formed-least",
   "metadata": {
    "scrolled": true
   },
   "outputs": [],
   "source": [
    "# Flag last readings for each unit\n",
    "for u in rul_df.index:\n",
    "    y_test.loc[u,'rul_flag'] = (y_test.loc[u,'time'] == y_test.loc[u,'time'].max()).astype(int)\n"
   ]
  },
  {
   "cell_type": "code",
   "execution_count": 94,
   "id": "sufficient-fourth",
   "metadata": {},
   "outputs": [],
   "source": [
    "# Lookup RUL in rul_df and calculate the rest of the columns\n",
    "for i in reversed(range(len(y_test))):\n",
    "    if y_test.iloc[i,2] == 1:\n",
    "        y_test.iloc[i,1] = rul_df.loc[y_test.iloc[i].name,(['RUL'])]\n",
    "    else:\n",
    "        y_test.iloc[i,1] = y_test.iloc[i+1,1]+1"
   ]
  },
  {
   "cell_type": "code",
   "execution_count": 95,
   "id": "informal-seeker",
   "metadata": {},
   "outputs": [],
   "source": [
    "# Drop all columns except RUL\n",
    "y_test = y_test.drop(columns=['time', 'rul_flag'])"
   ]
  },
  {
   "cell_type": "markdown",
   "id": "refined-kelly",
   "metadata": {},
   "source": [
    "# Split Data"
   ]
  },
  {
   "cell_type": "code",
   "execution_count": 96,
   "id": "optical-notification",
   "metadata": {
    "scrolled": true
   },
   "outputs": [],
   "source": [
    "file_no=1\n",
    "df1=df[file_no]\n",
    "target = 'RUL'\n",
    "\n",
    "# YOUR CODE HERE\n",
    "y=df1[target]\n",
    "X=df1.drop(columns=target)\n",
    "\n",
    "y_test=y_test  #Delete after wrangle\n",
    "X_test=dft1\n",
    "\n",
    "assert X_test.shape[0] == y_test.shape[0]"
   ]
  },
  {
   "cell_type": "markdown",
   "id": "allied-denmark",
   "metadata": {
    "scrolled": true
   },
   "source": [
    "##Delete\n",
    "\n",
    "ruldf=[0]*5\n",
    "df=[0]*5\n",
    "\n",
    "##Read csvs and assign them to df[1] to df[4]\n",
    "for n in range(1,5):\n",
    "    df[n]=pd.read_csv(files[n-1], delimiter=\" \", names=col_names, header=None, index_col=False)\n",
    "    df[n]=df[n].set_index('unit_no')\n",
    "    \n",
    "    ##Create Remaining Useful Life column (RUL), which is = to the number of readings before failure \n",
    "    # (the last reading for each unit is in this dataset represents failure)\n",
    "    ruldf[n]=df[n][['time']].groupby(by='unit_no').max()\n",
    "    for x in ruldf[n].index:\n",
    "        df[n].loc[x,'RUL'] = ruldf[n].loc[x,'time'] - df[n].loc[x,'time']\n"
   ]
  },
  {
   "cell_type": "markdown",
   "id": "controlled-wheat",
   "metadata": {},
   "source": [
    "# Baseline"
   ]
  },
  {
   "cell_type": "code",
   "execution_count": 97,
   "id": "hairy-phase",
   "metadata": {},
   "outputs": [
    {
     "name": "stdout",
     "output_type": "stream",
     "text": [
      "Mean RUL: 107.80786195530997\n",
      "Baseline MAE: 56.85860201806482\n"
     ]
    }
   ],
   "source": [
    "#Baseline will be mean for now:\n",
    "y_pred = [y.mean()] * len(y)\n",
    "print('Mean RUL:', y.mean())\n",
    "print('Baseline MAE:', mean_absolute_error(y, y_pred))\n"
   ]
  },
  {
   "cell_type": "markdown",
   "id": "aggressive-brunswick",
   "metadata": {},
   "source": [
    "# Model"
   ]
  },
  {
   "cell_type": "markdown",
   "id": "unable-milton",
   "metadata": {},
   "source": [
    "### Random Forest Regressor:"
   ]
  },
  {
   "cell_type": "code",
   "execution_count": 98,
   "id": "breeding-bachelor",
   "metadata": {},
   "outputs": [
    {
     "data": {
      "text/plain": [
       "RandomForestRegressor(random_state=42)"
      ]
     },
     "execution_count": 98,
     "metadata": {},
     "output_type": "execute_result"
    }
   ],
   "source": [
    "regr = RandomForestRegressor(random_state=42)\n",
    "regr.fit(X,y)"
   ]
  },
  {
   "cell_type": "code",
   "execution_count": 99,
   "id": "resistant-powell",
   "metadata": {
    "scrolled": true
   },
   "outputs": [
    {
     "name": "stdout",
     "output_type": "stream",
     "text": [
      "RFR training MAE: 9.373494740923853\n",
      "RFR test MAE: 14.334459102902374\n"
     ]
    }
   ],
   "source": [
    "print('RFR training MAE:', mean_absolute_error(y, regr.predict(X)))\n",
    "print('RFR test MAE:', mean_absolute_error(y_test.loc[(y_test.index<=5) & (y_test.index>1)], \n",
    "                                           regr.predict(X_test.loc[(X_test.index<=5) & (X_test.index>1)])))"
   ]
  },
  {
   "cell_type": "code",
   "execution_count": 100,
   "id": "controlled-boundary",
   "metadata": {
    "scrolled": true
   },
   "outputs": [
    {
     "data": {
      "text/plain": [
       "<matplotlib.collections.PathCollection at 0x114aa488a90>"
      ]
     },
     "execution_count": 100,
     "metadata": {},
     "output_type": "execute_result"
    },
    {
     "data": {
      "image/png": "[encoded data removed]",
      "text/plain": [
       "<Figure size 432x288 with 1 Axes>"
      ]
     },
     "metadata": {
      "needs_background": "light"
     },
     "output_type": "display_data"
    }
   ],
   "source": [
    "plt.scatter(regr.predict(X_test.loc[X_test.index==1]),X_test.loc[X_test.index == 1, 'time'])\n"
   ]
  },
  {
   "cell_type": "code",
   "execution_count": 28,
   "id": "auburn-machine",
   "metadata": {},
   "outputs": [
    {
     "data": {
      "text/html": [
       "<div>\n",
       "<style scoped>\n",
       "    .dataframe tbody tr th:only-of-type {\n",
       "        vertical-align: middle;\n",
       "    }\n",
       "\n",
       "    .dataframe tbody tr th {\n",
       "        vertical-align: top;\n",
       "    }\n",
       "\n",
       "    .dataframe thead th {\n",
       "        text-align: right;\n",
       "    }\n",
       "</style>\n",
       "<table border=\"1\" class=\"dataframe\">\n",
       "  <thead>\n",
       "    <tr style=\"text-align: right;\">\n",
       "      <th></th>\n",
       "      <th>time</th>\n",
       "      <th>op_set1</th>\n",
       "      <th>op_set2</th>\n",
       "      <th>sens_meas_2</th>\n",
       "      <th>sens_meas_3</th>\n",
       "      <th>sens_meas_4</th>\n",
       "      <th>sens_meas_6</th>\n",
       "      <th>sens_meas_7</th>\n",
       "      <th>sens_meas_8</th>\n",
       "      <th>sens_meas_9</th>\n",
       "      <th>sens_meas_11</th>\n",
       "      <th>sens_meas_12</th>\n",
       "      <th>sens_meas_13</th>\n",
       "      <th>sens_meas_14</th>\n",
       "      <th>sens_meas_15</th>\n",
       "      <th>sens_meas_17</th>\n",
       "      <th>sens_meas_20</th>\n",
       "      <th>sens_meas_21</th>\n",
       "      <th>RUL</th>\n",
       "    </tr>\n",
       "    <tr>\n",
       "      <th>unit_no</th>\n",
       "      <th></th>\n",
       "      <th></th>\n",
       "      <th></th>\n",
       "      <th></th>\n",
       "      <th></th>\n",
       "      <th></th>\n",
       "      <th></th>\n",
       "      <th></th>\n",
       "      <th></th>\n",
       "      <th></th>\n",
       "      <th></th>\n",
       "      <th></th>\n",
       "      <th></th>\n",
       "      <th></th>\n",
       "      <th></th>\n",
       "      <th></th>\n",
       "      <th></th>\n",
       "      <th></th>\n",
       "      <th></th>\n",
       "    </tr>\n",
       "  </thead>\n",
       "  <tbody>\n",
       "    <tr>\n",
       "      <th>1</th>\n",
       "      <td>1</td>\n",
       "      <td>-0.0007</td>\n",
       "      <td>-0.0004</td>\n",
       "      <td>641.82</td>\n",
       "      <td>1589.70</td>\n",
       "      <td>1400.60</td>\n",
       "      <td>21.61</td>\n",
       "      <td>554.36</td>\n",
       "      <td>2388.06</td>\n",
       "      <td>9046.19</td>\n",
       "      <td>47.47</td>\n",
       "      <td>521.66</td>\n",
       "      <td>2388.02</td>\n",
       "      <td>8138.62</td>\n",
       "      <td>8.4195</td>\n",
       "      <td>392</td>\n",
       "      <td>39.06</td>\n",
       "      <td>23.4190</td>\n",
       "      <td>191.0</td>\n",
       "    </tr>\n",
       "    <tr>\n",
       "      <th>1</th>\n",
       "      <td>2</td>\n",
       "      <td>0.0019</td>\n",
       "      <td>-0.0003</td>\n",
       "      <td>642.15</td>\n",
       "      <td>1591.82</td>\n",
       "      <td>1403.14</td>\n",
       "      <td>21.61</td>\n",
       "      <td>553.75</td>\n",
       "      <td>2388.04</td>\n",
       "      <td>9044.07</td>\n",
       "      <td>47.49</td>\n",
       "      <td>522.28</td>\n",
       "      <td>2388.07</td>\n",
       "      <td>8131.49</td>\n",
       "      <td>8.4318</td>\n",
       "      <td>392</td>\n",
       "      <td>39.00</td>\n",
       "      <td>23.4236</td>\n",
       "      <td>190.0</td>\n",
       "    </tr>\n",
       "    <tr>\n",
       "      <th>1</th>\n",
       "      <td>3</td>\n",
       "      <td>-0.0043</td>\n",
       "      <td>0.0003</td>\n",
       "      <td>642.35</td>\n",
       "      <td>1587.99</td>\n",
       "      <td>1404.20</td>\n",
       "      <td>21.61</td>\n",
       "      <td>554.26</td>\n",
       "      <td>2388.08</td>\n",
       "      <td>9052.94</td>\n",
       "      <td>47.27</td>\n",
       "      <td>522.42</td>\n",
       "      <td>2388.03</td>\n",
       "      <td>8133.23</td>\n",
       "      <td>8.4178</td>\n",
       "      <td>390</td>\n",
       "      <td>38.95</td>\n",
       "      <td>23.3442</td>\n",
       "      <td>189.0</td>\n",
       "    </tr>\n",
       "    <tr>\n",
       "      <th>1</th>\n",
       "      <td>4</td>\n",
       "      <td>0.0007</td>\n",
       "      <td>0.0000</td>\n",
       "      <td>642.35</td>\n",
       "      <td>1582.79</td>\n",
       "      <td>1401.87</td>\n",
       "      <td>21.61</td>\n",
       "      <td>554.45</td>\n",
       "      <td>2388.11</td>\n",
       "      <td>9049.48</td>\n",
       "      <td>47.13</td>\n",
       "      <td>522.86</td>\n",
       "      <td>2388.08</td>\n",
       "      <td>8133.83</td>\n",
       "      <td>8.3682</td>\n",
       "      <td>392</td>\n",
       "      <td>38.88</td>\n",
       "      <td>23.3739</td>\n",
       "      <td>188.0</td>\n",
       "    </tr>\n",
       "    <tr>\n",
       "      <th>1</th>\n",
       "      <td>5</td>\n",
       "      <td>-0.0019</td>\n",
       "      <td>-0.0002</td>\n",
       "      <td>642.37</td>\n",
       "      <td>1582.85</td>\n",
       "      <td>1406.22</td>\n",
       "      <td>21.61</td>\n",
       "      <td>554.00</td>\n",
       "      <td>2388.06</td>\n",
       "      <td>9055.15</td>\n",
       "      <td>47.28</td>\n",
       "      <td>522.19</td>\n",
       "      <td>2388.04</td>\n",
       "      <td>8133.80</td>\n",
       "      <td>8.4294</td>\n",
       "      <td>393</td>\n",
       "      <td>38.90</td>\n",
       "      <td>23.4044</td>\n",
       "      <td>187.0</td>\n",
       "    </tr>\n",
       "    <tr>\n",
       "      <th>...</th>\n",
       "      <td>...</td>\n",
       "      <td>...</td>\n",
       "      <td>...</td>\n",
       "      <td>...</td>\n",
       "      <td>...</td>\n",
       "      <td>...</td>\n",
       "      <td>...</td>\n",
       "      <td>...</td>\n",
       "      <td>...</td>\n",
       "      <td>...</td>\n",
       "      <td>...</td>\n",
       "      <td>...</td>\n",
       "      <td>...</td>\n",
       "      <td>...</td>\n",
       "      <td>...</td>\n",
       "      <td>...</td>\n",
       "      <td>...</td>\n",
       "      <td>...</td>\n",
       "      <td>...</td>\n",
       "    </tr>\n",
       "    <tr>\n",
       "      <th>100</th>\n",
       "      <td>196</td>\n",
       "      <td>-0.0004</td>\n",
       "      <td>-0.0003</td>\n",
       "      <td>643.49</td>\n",
       "      <td>1597.98</td>\n",
       "      <td>1428.63</td>\n",
       "      <td>21.61</td>\n",
       "      <td>551.43</td>\n",
       "      <td>2388.19</td>\n",
       "      <td>9065.52</td>\n",
       "      <td>48.07</td>\n",
       "      <td>519.49</td>\n",
       "      <td>2388.26</td>\n",
       "      <td>8137.60</td>\n",
       "      <td>8.4956</td>\n",
       "      <td>397</td>\n",
       "      <td>38.49</td>\n",
       "      <td>22.9735</td>\n",
       "      <td>4.0</td>\n",
       "    </tr>\n",
       "    <tr>\n",
       "      <th>100</th>\n",
       "      <td>197</td>\n",
       "      <td>-0.0016</td>\n",
       "      <td>-0.0005</td>\n",
       "      <td>643.54</td>\n",
       "      <td>1604.50</td>\n",
       "      <td>1433.58</td>\n",
       "      <td>21.61</td>\n",
       "      <td>550.86</td>\n",
       "      <td>2388.23</td>\n",
       "      <td>9065.11</td>\n",
       "      <td>48.04</td>\n",
       "      <td>519.68</td>\n",
       "      <td>2388.22</td>\n",
       "      <td>8136.50</td>\n",
       "      <td>8.5139</td>\n",
       "      <td>395</td>\n",
       "      <td>38.30</td>\n",
       "      <td>23.1594</td>\n",
       "      <td>3.0</td>\n",
       "    </tr>\n",
       "    <tr>\n",
       "      <th>100</th>\n",
       "      <td>198</td>\n",
       "      <td>0.0004</td>\n",
       "      <td>0.0000</td>\n",
       "      <td>643.42</td>\n",
       "      <td>1602.46</td>\n",
       "      <td>1428.18</td>\n",
       "      <td>21.61</td>\n",
       "      <td>550.94</td>\n",
       "      <td>2388.24</td>\n",
       "      <td>9065.90</td>\n",
       "      <td>48.09</td>\n",
       "      <td>520.01</td>\n",
       "      <td>2388.24</td>\n",
       "      <td>8141.05</td>\n",
       "      <td>8.5646</td>\n",
       "      <td>398</td>\n",
       "      <td>38.44</td>\n",
       "      <td>22.9333</td>\n",
       "      <td>2.0</td>\n",
       "    </tr>\n",
       "    <tr>\n",
       "      <th>100</th>\n",
       "      <td>199</td>\n",
       "      <td>-0.0011</td>\n",
       "      <td>0.0003</td>\n",
       "      <td>643.23</td>\n",
       "      <td>1605.26</td>\n",
       "      <td>1426.53</td>\n",
       "      <td>21.61</td>\n",
       "      <td>550.68</td>\n",
       "      <td>2388.25</td>\n",
       "      <td>9073.72</td>\n",
       "      <td>48.39</td>\n",
       "      <td>519.67</td>\n",
       "      <td>2388.23</td>\n",
       "      <td>8139.29</td>\n",
       "      <td>8.5389</td>\n",
       "      <td>395</td>\n",
       "      <td>38.29</td>\n",
       "      <td>23.0640</td>\n",
       "      <td>1.0</td>\n",
       "    </tr>\n",
       "    <tr>\n",
       "      <th>100</th>\n",
       "      <td>200</td>\n",
       "      <td>-0.0032</td>\n",
       "      <td>-0.0005</td>\n",
       "      <td>643.85</td>\n",
       "      <td>1600.38</td>\n",
       "      <td>1432.14</td>\n",
       "      <td>21.61</td>\n",
       "      <td>550.79</td>\n",
       "      <td>2388.26</td>\n",
       "      <td>9061.48</td>\n",
       "      <td>48.20</td>\n",
       "      <td>519.30</td>\n",
       "      <td>2388.26</td>\n",
       "      <td>8137.33</td>\n",
       "      <td>8.5036</td>\n",
       "      <td>396</td>\n",
       "      <td>38.37</td>\n",
       "      <td>23.0522</td>\n",
       "      <td>0.0</td>\n",
       "    </tr>\n",
       "  </tbody>\n",
       "</table>\n",
       "<p>20631 rows × 19 columns</p>\n",
       "</div>"
      ],
      "text/plain": [
       "         time  op_set1  op_set2  sens_meas_2  sens_meas_3  sens_meas_4  \\\n",
       "unit_no                                                                  \n",
       "1           1  -0.0007  -0.0004       641.82      1589.70      1400.60   \n",
       "1           2   0.0019  -0.0003       642.15      1591.82      1403.14   \n",
       "1           3  -0.0043   0.0003       642.35      1587.99      1404.20   \n",
       "1           4   0.0007   0.0000       642.35      1582.79      1401.87   \n",
       "1           5  -0.0019  -0.0002       642.37      1582.85      1406.22   \n",
       "...       ...      ...      ...          ...          ...          ...   \n",
       "100       196  -0.0004  -0.0003       643.49      1597.98      1428.63   \n",
       "100       197  -0.0016  -0.0005       643.54      1604.50      1433.58   \n",
       "100       198   0.0004   0.0000       643.42      1602.46      1428.18   \n",
       "100       199  -0.0011   0.0003       643.23      1605.26      1426.53   \n",
       "100       200  -0.0032  -0.0005       643.85      1600.38      1432.14   \n",
       "\n",
       "         sens_meas_6  sens_meas_7  sens_meas_8  sens_meas_9  sens_meas_11  \\\n",
       "unit_no                                                                     \n",
       "1              21.61       554.36      2388.06      9046.19         47.47   \n",
       "1              21.61       553.75      2388.04      9044.07         47.49   \n",
       "1              21.61       554.26      2388.08      9052.94         47.27   \n",
       "1              21.61       554.45      2388.11      9049.48         47.13   \n",
       "1              21.61       554.00      2388.06      9055.15         47.28   \n",
       "...              ...          ...          ...          ...           ...   \n",
       "100            21.61       551.43      2388.19      9065.52         48.07   \n",
       "100            21.61       550.86      2388.23      9065.11         48.04   \n",
       "100            21.61       550.94      2388.24      9065.90         48.09   \n",
       "100            21.61       550.68      2388.25      9073.72         48.39   \n",
       "100            21.61       550.79      2388.26      9061.48         48.20   \n",
       "\n",
       "         sens_meas_12  sens_meas_13  sens_meas_14  sens_meas_15  sens_meas_17  \\\n",
       "unit_no                                                                         \n",
       "1              521.66       2388.02       8138.62        8.4195           392   \n",
       "1              522.28       2388.07       8131.49        8.4318           392   \n",
       "1              522.42       2388.03       8133.23        8.4178           390   \n",
       "1              522.86       2388.08       8133.83        8.3682           392   \n",
       "1              522.19       2388.04       8133.80        8.4294           393   \n",
       "...               ...           ...           ...           ...           ...   \n",
       "100            519.49       2388.26       8137.60        8.4956           397   \n",
       "100            519.68       2388.22       8136.50        8.5139           395   \n",
       "100            520.01       2388.24       8141.05        8.5646           398   \n",
       "100            519.67       2388.23       8139.29        8.5389           395   \n",
       "100            519.30       2388.26       8137.33        8.5036           396   \n",
       "\n",
       "         sens_meas_20  sens_meas_21    RUL  \n",
       "unit_no                                     \n",
       "1               39.06       23.4190  191.0  \n",
       "1               39.00       23.4236  190.0  \n",
       "1               38.95       23.3442  189.0  \n",
       "1               38.88       23.3739  188.0  \n",
       "1               38.90       23.4044  187.0  \n",
       "...               ...           ...    ...  \n",
       "100             38.49       22.9735    4.0  \n",
       "100             38.30       23.1594    3.0  \n",
       "100             38.44       22.9333    2.0  \n",
       "100             38.29       23.0640    1.0  \n",
       "100             38.37       23.0522    0.0  \n",
       "\n",
       "[20631 rows x 19 columns]"
      ]
     },
     "execution_count": 28,
     "metadata": {},
     "output_type": "execute_result"
    }
   ],
   "source": [
    "df1"
   ]
  },
  {
   "cell_type": "markdown",
   "id": "correct-administration",
   "metadata": {},
   "source": [
    "### Logistic Regression"
   ]
  },
  {
   "cell_type": "code",
   "execution_count": 101,
   "id": "tired-destination",
   "metadata": {},
   "outputs": [
    {
     "name": "stderr",
     "output_type": "stream",
     "text": [
      "c:\\users\\ncarv\\.virtualenvs\\github-ka8fdyb0\\lib\\site-packages\\sklearn\\linear_model\\_logistic.py:763: ConvergenceWarning: lbfgs failed to converge (status=1):\n",
      "STOP: TOTAL NO. of ITERATIONS REACHED LIMIT.\n",
      "\n",
      "Increase the number of iterations (max_iter) or scale the data as shown in:\n",
      "    https://scikit-learn.org/stable/modules/preprocessing.html\n",
      "Please also refer to the documentation for alternative solver options:\n",
      "    https://scikit-learn.org/stable/modules/linear_model.html#logistic-regression\n",
      "  n_iter_i = _check_optimize_result(\n"
     ]
    },
    {
     "data": {
      "text/plain": [
       "LogisticRegression()"
      ]
     },
     "execution_count": 101,
     "metadata": {},
     "output_type": "execute_result"
    }
   ],
   "source": [
    "model_lr = LogisticRegression()\n",
    "\n",
    "\n",
    "model_lr.fit(X,y)"
   ]
  },
  {
   "cell_type": "code",
   "execution_count": 102,
   "id": "friendly-curtis",
   "metadata": {
    "scrolled": true
   },
   "outputs": [
    {
     "name": "stdout",
     "output_type": "stream",
     "text": [
      "LR training MAE: 35.87014686636615\n",
      "LR test MAE: 39.872251069028714\n"
     ]
    }
   ],
   "source": [
    "print('LR training MAE:', mean_absolute_error(y, model_lr.predict(X)))\n",
    "print('LR test MAE:', mean_absolute_error(y_test, model_lr.predict(X_test)))"
   ]
  },
  {
   "cell_type": "markdown",
   "id": "threaded-shoot",
   "metadata": {},
   "source": [
    "### XGBoost"
   ]
  },
  {
   "cell_type": "raw",
   "id": "abroad-austria",
   "metadata": {},
   "source": []
  },
  {
   "cell_type": "code",
   "execution_count": 103,
   "id": "horizontal-career",
   "metadata": {},
   "outputs": [],
   "source": [
    "# Instantiation \n",
    "model_xg = xg.XGBRegressor(objective ='reg:squarederror', \n",
    "                  n_estimators = 5) \n",
    "  \n",
    "# Fitting the model \n",
    "model_xg.fit(X, y) \n",
    "  \n",
    "# Predict the model \n",
    "pred = model_xg.predict(X_test) \n"
   ]
  },
  {
   "cell_type": "code",
   "execution_count": 104,
   "id": "seeing-oklahoma",
   "metadata": {},
   "outputs": [
    {
     "name": "stdout",
     "output_type": "stream",
     "text": [
      "LR training MAE: 27.09982753563861\n",
      "LR test MAE: 34.897739415643564\n"
     ]
    }
   ],
   "source": [
    "model=model_xg\n",
    "print('LR training MAE:', mean_absolute_error(y, model.predict(X)))\n",
    "print('LR test MAE:', mean_absolute_error(y_test, model.predict(X_test)))\n",
    "# # RMSE Computation \n",
    "# rmse = np.sqrt(MSE(y_test, pred)) \n",
    "# print(\"RMSE : % f\" %(rmse)) "
   ]
  },
  {
   "cell_type": "markdown",
   "id": "rising-bleeding",
   "metadata": {},
   "source": [
    "# Figures:"
   ]
  },
  {
   "cell_type": "markdown",
   "id": "ignored-cleaners",
   "metadata": {},
   "source": [
    "## Time vs. RUL"
   ]
  },
  {
   "cell_type": "code",
   "execution_count": 106,
   "id": "material-growing",
   "metadata": {
    "scrolled": false
   },
   "outputs": [
    {
     "data": {
      "text/plain": [
       "Text(0.5, 1.0, 'time')"
      ]
     },
     "execution_count": 106,
     "metadata": {},
     "output_type": "execute_result"
    },
    {
     "data": {
      "image/png": "[encoded data removed]",
      "text/plain": [
       "<Figure size 432x288 with 24 Axes>"
      ]
     },
     "metadata": {
      "needs_background": "light"
     },
     "output_type": "display_data"
    }
   ],
   "source": [
    "# time vs. RUL\n",
    "data = X_test\n",
    "set_=4\n",
    "first=set_*24+1\n",
    "start = first%24\n",
    "end = start+24\n",
    "cols=data.columns\n",
    "col = 'time'\n",
    "\n",
    "\n",
    "fig, axs = plt.subplots(6, 4)\n",
    "for c in range(start,end):\n",
    "    if 1<=c<=4:\n",
    "        axs[0,c%4].plot(data.loc[data.index == c, col], regr.predict(data.loc[data.index == c]))\n",
    "    if 5<=c<=8:\n",
    "        axs[1,c%4].plot(data.loc[data.index == c, col], regr.predict(data.loc[data.index == c]))\n",
    "    if 9<=c<=12:\n",
    "        axs[2,c%4].plot(data.loc[data.index == c, col], regr.predict(data.loc[data.index == c]))\n",
    "    if 13<=c<=16:\n",
    "        axs[3,c%4].plot(data.loc[data.index == c, col], regr.predict(data.loc[data.index == c]))\n",
    "    if 17<=c<=20:\n",
    "        axs[4,c%4].plot(data.loc[data.index == c, col], regr.predict(data.loc[data.index == c]))\n",
    "    if 21<=c<=24:\n",
    "        axs[5,c%4].plot(data.loc[data.index == c, col], regr.predict(data.loc[data.index == c]))\n",
    "#     \n",
    "axs[0, 0].set_title(col)\n",
    "axs[0, 1].set_title(col)\n",
    "axs[0, 2].set_title(col)\n",
    "axs[0, 3].set_title(col)\n",
    "\n"
   ]
  },
  {
   "cell_type": "code",
   "execution_count": 121,
   "id": "adapted-rescue",
   "metadata": {
    "scrolled": false
   },
   "outputs": [
    {
     "data": {
      "text/plain": [
       "Text(0.5, 1.0, 'sens_meas_9')"
      ]
     },
     "execution_count": 121,
     "metadata": {},
     "output_type": "execute_result"
    },
    {
     "data": {
      "image/png": "[encoded data removed]",
      "text/plain": [
       "<Figure size 432x288 with 24 Axes>"
      ]
     },
     "metadata": {
      "needs_background": "light"
     },
     "output_type": "display_data"
    }
   ],
   "source": [
    "# time vs. sensor\n",
    "data = df1\n",
    "set_=4\n",
    "first=set_*24+1\n",
    "start = first%24\n",
    "end = start+24\n",
    "cols=data.columns\n",
    "col = cols[9]\n",
    "\n",
    "\n",
    "fig, axs = plt.subplots(6, 4)\n",
    "for c in range(start,end):\n",
    "    if 1<=c<=4:\n",
    "        axs[0,c%4].plot(data.loc[data.index == c, 'time'], data.loc[data.index == c, col])\n",
    "    if 5<=c<=8:\n",
    "        axs[1,c%4].plot(data.loc[data.index == c, 'time'], data.loc[data.index == c, col])\n",
    "    if 9<=c<=12:\n",
    "        axs[2,c%4].plot(data.loc[data.index == c, 'time'], data.loc[data.index == c, col])\n",
    "    if 13<=c<=16:\n",
    "        axs[3,c%4].plot(data.loc[data.index == c, 'time'], data.loc[data.index == c, col])\n",
    "    if 17<=c<=20:\n",
    "        axs[4,c%4].plot(data.loc[data.index == c, 'time'], data.loc[data.index == c, col])\n",
    "    if 21<=c<=24:\n",
    "        axs[5,c%4].plot(data.loc[data.index == c, 'time'], data.loc[data.index == c, col])\n",
    "#     \n",
    "axs[0, 0].set_title(col)\n",
    "axs[0, 1].set_title(col)\n",
    "axs[0, 2].set_title(col)\n",
    "axs[0, 3].set_title(col)\n",
    "\n"
   ]
  },
  {
   "cell_type": "code",
   "execution_count": 72,
   "id": "present-australian",
   "metadata": {},
   "outputs": [],
   "source": [
    "plt.ylabel?"
   ]
  },
  {
   "cell_type": "code",
   "execution_count": 29,
   "id": "ranging-league",
   "metadata": {},
   "outputs": [
    {
     "ename": "KeyError",
     "evalue": "'sens_meas_5'",
     "output_type": "error",
     "traceback": [
      "\u001b[1;31m---------------------------------------------------------------------------\u001b[0m",
      "\u001b[1;31mKeyError\u001b[0m                                  Traceback (most recent call last)",
      "\u001b[1;32mc:\\users\\ncarv\\.virtualenvs\\github-ka8fdyb0\\lib\\site-packages\\pandas\\core\\indexes\\base.py\u001b[0m in \u001b[0;36mget_loc\u001b[1;34m(self, key, method, tolerance)\u001b[0m\n\u001b[0;32m   3079\u001b[0m             \u001b[1;32mtry\u001b[0m\u001b[1;33m:\u001b[0m\u001b[1;33m\u001b[0m\u001b[1;33m\u001b[0m\u001b[0m\n\u001b[1;32m-> 3080\u001b[1;33m                 \u001b[1;32mreturn\u001b[0m \u001b[0mself\u001b[0m\u001b[1;33m.\u001b[0m\u001b[0m_engine\u001b[0m\u001b[1;33m.\u001b[0m\u001b[0mget_loc\u001b[0m\u001b[1;33m(\u001b[0m\u001b[0mcasted_key\u001b[0m\u001b[1;33m)\u001b[0m\u001b[1;33m\u001b[0m\u001b[1;33m\u001b[0m\u001b[0m\n\u001b[0m\u001b[0;32m   3081\u001b[0m             \u001b[1;32mexcept\u001b[0m \u001b[0mKeyError\u001b[0m \u001b[1;32mas\u001b[0m \u001b[0merr\u001b[0m\u001b[1;33m:\u001b[0m\u001b[1;33m\u001b[0m\u001b[1;33m\u001b[0m\u001b[0m\n",
      "\u001b[1;32mpandas\\_libs\\index.pyx\u001b[0m in \u001b[0;36mpandas._libs.index.IndexEngine.get_loc\u001b[1;34m()\u001b[0m\n",
      "\u001b[1;32mpandas\\_libs\\index.pyx\u001b[0m in \u001b[0;36mpandas._libs.index.IndexEngine.get_loc\u001b[1;34m()\u001b[0m\n",
      "\u001b[1;32mpandas\\_libs\\hashtable_class_helper.pxi\u001b[0m in \u001b[0;36mpandas._libs.hashtable.PyObjectHashTable.get_item\u001b[1;34m()\u001b[0m\n",
      "\u001b[1;32mpandas\\_libs\\hashtable_class_helper.pxi\u001b[0m in \u001b[0;36mpandas._libs.hashtable.PyObjectHashTable.get_item\u001b[1;34m()\u001b[0m\n",
      "\u001b[1;31mKeyError\u001b[0m: 'sens_meas_5'",
      "\nThe above exception was the direct cause of the following exception:\n",
      "\u001b[1;31mKeyError\u001b[0m                                  Traceback (most recent call last)",
      "\u001b[1;32m<ipython-input-29-3ff2b166734f>\u001b[0m in \u001b[0;36m<module>\u001b[1;34m\u001b[0m\n\u001b[0;32m      4\u001b[0m     \u001b[0maxs\u001b[0m\u001b[1;33m[\u001b[0m\u001b[1;36m1\u001b[0m\u001b[1;33m,\u001b[0m\u001b[0mn\u001b[0m\u001b[1;33m-\u001b[0m\u001b[1;36m1\u001b[0m\u001b[1;33m]\u001b[0m\u001b[1;33m.\u001b[0m\u001b[0mplot\u001b[0m\u001b[1;33m(\u001b[0m\u001b[0mdf\u001b[0m\u001b[1;33m[\u001b[0m\u001b[0mn\u001b[0m\u001b[1;33m]\u001b[0m\u001b[1;33m[\u001b[0m\u001b[1;34m'sens_meas_3'\u001b[0m\u001b[1;33m]\u001b[0m\u001b[1;33m,\u001b[0m \u001b[0mdf\u001b[0m\u001b[1;33m[\u001b[0m\u001b[0mn\u001b[0m\u001b[1;33m]\u001b[0m\u001b[1;33m[\u001b[0m\u001b[1;34m'RUL'\u001b[0m\u001b[1;33m]\u001b[0m\u001b[1;33m)\u001b[0m\u001b[1;33m\u001b[0m\u001b[1;33m\u001b[0m\u001b[0m\n\u001b[0;32m      5\u001b[0m     \u001b[0maxs\u001b[0m\u001b[1;33m[\u001b[0m\u001b[1;36m2\u001b[0m\u001b[1;33m,\u001b[0m\u001b[0mn\u001b[0m\u001b[1;33m-\u001b[0m\u001b[1;36m1\u001b[0m\u001b[1;33m]\u001b[0m\u001b[1;33m.\u001b[0m\u001b[0mplot\u001b[0m\u001b[1;33m(\u001b[0m\u001b[0mdf\u001b[0m\u001b[1;33m[\u001b[0m\u001b[0mn\u001b[0m\u001b[1;33m]\u001b[0m\u001b[1;33m[\u001b[0m\u001b[1;34m'sens_meas_4'\u001b[0m\u001b[1;33m]\u001b[0m\u001b[1;33m,\u001b[0m \u001b[0mdf\u001b[0m\u001b[1;33m[\u001b[0m\u001b[0mn\u001b[0m\u001b[1;33m]\u001b[0m\u001b[1;33m[\u001b[0m\u001b[1;34m'RUL'\u001b[0m\u001b[1;33m]\u001b[0m\u001b[1;33m)\u001b[0m\u001b[1;33m\u001b[0m\u001b[1;33m\u001b[0m\u001b[0m\n\u001b[1;32m----> 6\u001b[1;33m     \u001b[0maxs\u001b[0m\u001b[1;33m[\u001b[0m\u001b[1;36m3\u001b[0m\u001b[1;33m,\u001b[0m\u001b[0mn\u001b[0m\u001b[1;33m-\u001b[0m\u001b[1;36m1\u001b[0m\u001b[1;33m]\u001b[0m\u001b[1;33m.\u001b[0m\u001b[0mplot\u001b[0m\u001b[1;33m(\u001b[0m\u001b[0mdf\u001b[0m\u001b[1;33m[\u001b[0m\u001b[0mn\u001b[0m\u001b[1;33m]\u001b[0m\u001b[1;33m[\u001b[0m\u001b[1;34m'sens_meas_5'\u001b[0m\u001b[1;33m]\u001b[0m\u001b[1;33m,\u001b[0m \u001b[0mdf\u001b[0m\u001b[1;33m[\u001b[0m\u001b[0mn\u001b[0m\u001b[1;33m]\u001b[0m\u001b[1;33m[\u001b[0m\u001b[1;34m'RUL'\u001b[0m\u001b[1;33m]\u001b[0m\u001b[1;33m)\u001b[0m\u001b[1;33m\u001b[0m\u001b[1;33m\u001b[0m\u001b[0m\n\u001b[0m\u001b[0;32m      7\u001b[0m     \u001b[0maxs\u001b[0m\u001b[1;33m[\u001b[0m\u001b[1;36m4\u001b[0m\u001b[1;33m,\u001b[0m\u001b[0mn\u001b[0m\u001b[1;33m-\u001b[0m\u001b[1;36m1\u001b[0m\u001b[1;33m]\u001b[0m\u001b[1;33m.\u001b[0m\u001b[0mplot\u001b[0m\u001b[1;33m(\u001b[0m\u001b[0mdf\u001b[0m\u001b[1;33m[\u001b[0m\u001b[0mn\u001b[0m\u001b[1;33m]\u001b[0m\u001b[1;33m[\u001b[0m\u001b[1;34m'sens_meas_6'\u001b[0m\u001b[1;33m]\u001b[0m\u001b[1;33m,\u001b[0m \u001b[0mdf\u001b[0m\u001b[1;33m[\u001b[0m\u001b[0mn\u001b[0m\u001b[1;33m]\u001b[0m\u001b[1;33m[\u001b[0m\u001b[1;34m'RUL'\u001b[0m\u001b[1;33m]\u001b[0m\u001b[1;33m)\u001b[0m\u001b[1;33m\u001b[0m\u001b[1;33m\u001b[0m\u001b[0m\n\u001b[0;32m      8\u001b[0m     \u001b[0maxs\u001b[0m\u001b[1;33m[\u001b[0m\u001b[1;36m5\u001b[0m\u001b[1;33m,\u001b[0m\u001b[0mn\u001b[0m\u001b[1;33m-\u001b[0m\u001b[1;36m1\u001b[0m\u001b[1;33m]\u001b[0m\u001b[1;33m.\u001b[0m\u001b[0mplot\u001b[0m\u001b[1;33m(\u001b[0m\u001b[0mdf\u001b[0m\u001b[1;33m[\u001b[0m\u001b[0mn\u001b[0m\u001b[1;33m]\u001b[0m\u001b[1;33m[\u001b[0m\u001b[1;34m'sens_meas_7'\u001b[0m\u001b[1;33m]\u001b[0m\u001b[1;33m,\u001b[0m \u001b[0mdf\u001b[0m\u001b[1;33m[\u001b[0m\u001b[0mn\u001b[0m\u001b[1;33m]\u001b[0m\u001b[1;33m[\u001b[0m\u001b[1;34m'RUL'\u001b[0m\u001b[1;33m]\u001b[0m\u001b[1;33m)\u001b[0m\u001b[1;33m\u001b[0m\u001b[1;33m\u001b[0m\u001b[0m\n",
      "\u001b[1;32mc:\\users\\ncarv\\.virtualenvs\\github-ka8fdyb0\\lib\\site-packages\\pandas\\core\\frame.py\u001b[0m in \u001b[0;36m__getitem__\u001b[1;34m(self, key)\u001b[0m\n\u001b[0;32m   3022\u001b[0m             \u001b[1;32mif\u001b[0m \u001b[0mself\u001b[0m\u001b[1;33m.\u001b[0m\u001b[0mcolumns\u001b[0m\u001b[1;33m.\u001b[0m\u001b[0mnlevels\u001b[0m \u001b[1;33m>\u001b[0m \u001b[1;36m1\u001b[0m\u001b[1;33m:\u001b[0m\u001b[1;33m\u001b[0m\u001b[1;33m\u001b[0m\u001b[0m\n\u001b[0;32m   3023\u001b[0m                 \u001b[1;32mreturn\u001b[0m \u001b[0mself\u001b[0m\u001b[1;33m.\u001b[0m\u001b[0m_getitem_multilevel\u001b[0m\u001b[1;33m(\u001b[0m\u001b[0mkey\u001b[0m\u001b[1;33m)\u001b[0m\u001b[1;33m\u001b[0m\u001b[1;33m\u001b[0m\u001b[0m\n\u001b[1;32m-> 3024\u001b[1;33m             \u001b[0mindexer\u001b[0m \u001b[1;33m=\u001b[0m \u001b[0mself\u001b[0m\u001b[1;33m.\u001b[0m\u001b[0mcolumns\u001b[0m\u001b[1;33m.\u001b[0m\u001b[0mget_loc\u001b[0m\u001b[1;33m(\u001b[0m\u001b[0mkey\u001b[0m\u001b[1;33m)\u001b[0m\u001b[1;33m\u001b[0m\u001b[1;33m\u001b[0m\u001b[0m\n\u001b[0m\u001b[0;32m   3025\u001b[0m             \u001b[1;32mif\u001b[0m \u001b[0mis_integer\u001b[0m\u001b[1;33m(\u001b[0m\u001b[0mindexer\u001b[0m\u001b[1;33m)\u001b[0m\u001b[1;33m:\u001b[0m\u001b[1;33m\u001b[0m\u001b[1;33m\u001b[0m\u001b[0m\n\u001b[0;32m   3026\u001b[0m                 \u001b[0mindexer\u001b[0m \u001b[1;33m=\u001b[0m \u001b[1;33m[\u001b[0m\u001b[0mindexer\u001b[0m\u001b[1;33m]\u001b[0m\u001b[1;33m\u001b[0m\u001b[1;33m\u001b[0m\u001b[0m\n",
      "\u001b[1;32mc:\\users\\ncarv\\.virtualenvs\\github-ka8fdyb0\\lib\\site-packages\\pandas\\core\\indexes\\base.py\u001b[0m in \u001b[0;36mget_loc\u001b[1;34m(self, key, method, tolerance)\u001b[0m\n\u001b[0;32m   3080\u001b[0m                 \u001b[1;32mreturn\u001b[0m \u001b[0mself\u001b[0m\u001b[1;33m.\u001b[0m\u001b[0m_engine\u001b[0m\u001b[1;33m.\u001b[0m\u001b[0mget_loc\u001b[0m\u001b[1;33m(\u001b[0m\u001b[0mcasted_key\u001b[0m\u001b[1;33m)\u001b[0m\u001b[1;33m\u001b[0m\u001b[1;33m\u001b[0m\u001b[0m\n\u001b[0;32m   3081\u001b[0m             \u001b[1;32mexcept\u001b[0m \u001b[0mKeyError\u001b[0m \u001b[1;32mas\u001b[0m \u001b[0merr\u001b[0m\u001b[1;33m:\u001b[0m\u001b[1;33m\u001b[0m\u001b[1;33m\u001b[0m\u001b[0m\n\u001b[1;32m-> 3082\u001b[1;33m                 \u001b[1;32mraise\u001b[0m \u001b[0mKeyError\u001b[0m\u001b[1;33m(\u001b[0m\u001b[0mkey\u001b[0m\u001b[1;33m)\u001b[0m \u001b[1;32mfrom\u001b[0m \u001b[0merr\u001b[0m\u001b[1;33m\u001b[0m\u001b[1;33m\u001b[0m\u001b[0m\n\u001b[0m\u001b[0;32m   3083\u001b[0m \u001b[1;33m\u001b[0m\u001b[0m\n\u001b[0;32m   3084\u001b[0m         \u001b[1;32mif\u001b[0m \u001b[0mtolerance\u001b[0m \u001b[1;32mis\u001b[0m \u001b[1;32mnot\u001b[0m \u001b[1;32mNone\u001b[0m\u001b[1;33m:\u001b[0m\u001b[1;33m\u001b[0m\u001b[1;33m\u001b[0m\u001b[0m\n",
      "\u001b[1;31mKeyError\u001b[0m: 'sens_meas_5'"
     ]
    },
    {
     "data": {
      "image/png": "[encoded data removed]",
      "text/plain": [
       "<Figure size 432x288 with 24 Axes>"
      ]
     },
     "metadata": {
      "needs_background": "light"
     },
     "output_type": "display_data"
    }
   ],
   "source": [
    "fig, axs = plt.subplots(6, 4)\n",
    "for n in range(1,5):\n",
    "    axs[0,n-1].plot(df[n]['sens_meas_2'], df[n]['RUL'])\n",
    "    axs[1,n-1].plot(df[n]['sens_meas_3'], df[n]['RUL'])\n",
    "    axs[2,n-1].plot(df[n]['sens_meas_4'], df[n]['RUL'])\n",
    "    axs[3,n-1].plot(df[n]['sens_meas_5'], df[n]['RUL'])\n",
    "    axs[4,n-1].plot(df[n]['sens_meas_6'], df[n]['RUL'])\n",
    "    axs[5,n-1].plot(df[n]['sens_meas_7'], df[n]['RUL'])\n",
    "#     \n",
    "axs[0, 0].set_title('Dataset 1')\n",
    "axs[0, 1].set_title('Dataset 2')\n",
    "axs[0, 2].set_title('Dataset 3')\n",
    "axs[0, 3].set_title('Dataset 4')\n",
    "    \n",
    "for ax in axs.flat:\n",
    "    ax.label_outer()\n",
    "    \n"
   ]
  },
  {
   "cell_type": "markdown",
   "id": "sufficient-billion",
   "metadata": {},
   "source": [
    "fig, axs = plt.subplots(4, 4)\n",
    "axs[0, 0].plot(df[1]['sens_meas_2'], df[1]['RUL'])\n",
    "axs[0, 0].set_title('Dataset 1')\n",
    "\n",
    "axs[0, 1].plot(df[1]['time'], df[1]['RUL'], 'tab:orange')\n",
    "axs[0, 1].set_title('Dataset 2')\n",
    "\n",
    "axs[0, 2].plot(df[1]['time'], df[1]['RUL'], 'tab:orange')\n",
    "axs[0, 2].set_title('Dataset 3')\n",
    "\n",
    "axs[0, 3].plot(df[1]['sens_meas_2'], df[1]['RUL'], 'tab:red')\n",
    "axs[0, 3].set_title('Dataset 4')\n",
    "\n",
    "# axs[0, 4].plot(df[1]['sens_meas_2'], df[1]['RUL'], 'tab:red')\n",
    "# axs[0, 4].set_title('Dataset 4')\n",
    "\n",
    "axs[1, 0].plot(df[1]['time'], df[1]['RUL'], 'tab:green')\n",
    "\n",
    "axs[1, 1].plot(df[1]['time'], df[1]['RUL'], 'tab:red')\n",
    "axs[0, 2].plot(df[1]['op_set1'], df[1]['RUL'], 'tab:red')\n",
    "\n",
    "\n",
    "for ax in axs.flat:\n",
    "    ax.set(xlabel='x', ylabel='y-label')\n",
    "\n",
    "# Hide x labels and tick labels for top plots and y ticks for right plots.\n",
    "for ax in axs.flat:\n",
    "    ax.label_outer()\n",
    "    \n",
    "ax.autoscale()"
   ]
  },
  {
   "cell_type": "markdown",
   "id": "printable-minister",
   "metadata": {},
   "source": [
    "fig, axs = plt.subplots(4, 4)\n",
    "axs[0, 0].plot(df[1]['time'], df[1]['sens_meas_2'])\n",
    "axs[0, 0].set_title('Dataset 1')\n",
    "\n",
    "axs[0, 1].plot(df[1]['time'], df[1]['RUL'], 'tab:orange')\n",
    "axs[0, 1].set_title('Dataset 2')\n",
    "\n",
    "axs[0, 2].plot(df[1]['time'], df[1]['RUL'], 'tab:orange')\n",
    "axs[0, 2].set_title('Dataset 3')\n",
    "\n",
    "axs[0, 3].plot(df[1]['sens_meas_2'], df[1]['RUL'], 'tab:red')\n",
    "axs[0, 3].set_title('Dataset 4')\n",
    "\n",
    "# axs[0, 4].plot(df[1]['sens_meas_2'], df[1]['RUL'], 'tab:red')\n",
    "# axs[0, 4].set_title('Dataset 4')\n",
    "\n",
    "axs[1, 0].plot(df[1]['time'], df[1]['RUL'], 'tab:green')\n",
    "\n",
    "axs[1, 1].plot(df[1]['time'], df[1]['RUL'], 'tab:red')\n",
    "axs[0, 2].plot(df[1]['op_set1'], df[1]['RUL'], 'tab:red')\n",
    "\n",
    "\n",
    "for ax in axs.flat:\n",
    "    ax.set(xlabel='x', ylabel='y-label')\n",
    "\n",
    "# Hide x labels and tick labels for top plots and y ticks for right plots.\n",
    "for ax in axs.flat:\n",
    "    ax.label_outer()\n",
    "    \n",
    "ax.autoscale()"
   ]
  },
  {
   "cell_type": "markdown",
   "id": "continuous-dryer",
   "metadata": {},
   "source": [
    "Complete these tasks for your project, and document your decisions.\n",
    "\n",
    "Choose your target. Which column in your tabular dataset will you predict?\n",
    "**The column to be used is the 'Remaining Useful Life' column**\n",
    "Is your problem regression or classification?\n",
    "**Classification**\n",
    "How is your target distributed?\n",
    "\n",
    "Classification: How many classes? Are the classes imbalanced?\n",
    "Regression: Is the target right-skewed? If so, you may want to log transform the target.\n",
    "Choose your evaluation metric(s).\n",
    "**The nature of the data makes this target neither left nor right skewed**\n",
    "\n",
    "Classification: Is your majority class frequency >= 50% and < 70% ? If so, you can just use accuracy if you want. Outside that range, accuracy could be misleading. What evaluation metric will you choose, in addition to or instead of accuracy?\n",
    "Regression: Will you use mean absolute error, root mean squared error, R^2, or other regression metrics?\n",
    "**Probably RMSE and R2**\n",
    "Choose which observations you will use to train, validate, and test your model.\n",
    "**All**\n",
    "Are some observations outliers? Will you exclude them?\n",
    "**Haven't found any, only will exclude columns where all values are the same**\n",
    "Will you do a random split or a time-based split?\n",
    "**Data is already split randomly**\n",
    "Begin to clean and explore your data.\n",
    "Begin to choose which features, if any, to exclude. Would some features \"leak\" future information?"
   ]
  },
  {
   "cell_type": "code",
   "execution_count": 107,
   "id": "furnished-frame",
   "metadata": {},
   "outputs": [
    {
     "data": {
      "text/html": [
       "<div>\n",
       "<style scoped>\n",
       "    .dataframe tbody tr th:only-of-type {\n",
       "        vertical-align: middle;\n",
       "    }\n",
       "\n",
       "    .dataframe tbody tr th {\n",
       "        vertical-align: top;\n",
       "    }\n",
       "\n",
       "    .dataframe thead th {\n",
       "        text-align: right;\n",
       "    }\n",
       "</style>\n",
       "<table border=\"1\" class=\"dataframe\">\n",
       "  <thead>\n",
       "    <tr style=\"text-align: right;\">\n",
       "      <th></th>\n",
       "      <th>0</th>\n",
       "    </tr>\n",
       "  </thead>\n",
       "  <tbody>\n",
       "    <tr>\n",
       "      <th>0</th>\n",
       "      <td>112</td>\n",
       "    </tr>\n",
       "    <tr>\n",
       "      <th>1</th>\n",
       "      <td>98</td>\n",
       "    </tr>\n",
       "    <tr>\n",
       "      <th>2</th>\n",
       "      <td>69</td>\n",
       "    </tr>\n",
       "    <tr>\n",
       "      <th>3</th>\n",
       "      <td>82</td>\n",
       "    </tr>\n",
       "    <tr>\n",
       "      <th>4</th>\n",
       "      <td>91</td>\n",
       "    </tr>\n",
       "    <tr>\n",
       "      <th>...</th>\n",
       "      <td>...</td>\n",
       "    </tr>\n",
       "    <tr>\n",
       "      <th>95</th>\n",
       "      <td>137</td>\n",
       "    </tr>\n",
       "    <tr>\n",
       "      <th>96</th>\n",
       "      <td>82</td>\n",
       "    </tr>\n",
       "    <tr>\n",
       "      <th>97</th>\n",
       "      <td>59</td>\n",
       "    </tr>\n",
       "    <tr>\n",
       "      <th>98</th>\n",
       "      <td>117</td>\n",
       "    </tr>\n",
       "    <tr>\n",
       "      <th>99</th>\n",
       "      <td>20</td>\n",
       "    </tr>\n",
       "  </tbody>\n",
       "</table>\n",
       "<p>100 rows × 1 columns</p>\n",
       "</div>"
      ],
      "text/plain": [
       "      0\n",
       "0   112\n",
       "1    98\n",
       "2    69\n",
       "3    82\n",
       "4    91\n",
       "..  ...\n",
       "95  137\n",
       "96   82\n",
       "97   59\n",
       "98  117\n",
       "99   20\n",
       "\n",
       "[100 rows x 1 columns]"
      ]
     },
     "execution_count": 107,
     "metadata": {},
     "output_type": "execute_result"
    }
   ],
   "source": [
    "df1=pd.read_csv('./data/RUL_FD001.txt', header=None)\n",
    "df1"
   ]
  }
 ],
 "metadata": {
  "kernelspec": {
   "display_name": "Python 3",
   "language": "python",
   "name": "python3"
  },
  "language_info": {
   "codemirror_mode": {
    "name": "ipython",
    "version": 3
   },
   "file_extension": ".py",
   "mimetype": "text/x-python",
   "name": "python",
   "nbconvert_exporter": "python",
   "pygments_lexer": "ipython3",
   "version": "3.8.7"
  }
 },
 "nbformat": 4,
 "nbformat_minor": 5
}
